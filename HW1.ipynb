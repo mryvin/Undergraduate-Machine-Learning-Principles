{
 "cells": [
  {
   "cell_type": "code",
   "execution_count": 28,
   "id": "6c8d323f-0d20-493f-89ce-1732374a7a2e",
   "metadata": {},
   "outputs": [],
   "source": [
    "import numpy as np\n",
    "import math\n",
    "import matplotlib.pyplot as plt"
   ]
  },
  {
   "cell_type": "markdown",
   "id": "6a7343e5-ef7f-40a8-b4e0-578be290a2bc",
   "metadata": {},
   "source": [
    "# Stats and Data"
   ]
  },
  {
   "cell_type": "markdown",
   "id": "7baeaa3e-e72f-4fc0-96ae-d3dd6b45b4a4",
   "metadata": {},
   "source": [
    "## 3"
   ]
  },
  {
   "cell_type": "code",
   "execution_count": 29,
   "id": "8003c67c-52f8-41c2-9b21-5bd981abc2a6",
   "metadata": {},
   "outputs": [
    {
     "data": {
      "text/plain": [
       "array([1, 1, 0, 1, 1, 1, 1, 1, 1, 1, 1, 1, 0, 1, 1, 1, 1, 1, 1, 1, 1, 0,\n",
       "       0, 1, 0, 1, 1, 1, 1, 0])"
      ]
     },
     "execution_count": 29,
     "metadata": {},
     "output_type": "execute_result"
    }
   ],
   "source": [
    "bernoulli = np.random.binomial(1, 0.6, size=30)\n",
    "bernoulli"
   ]
  },
  {
   "cell_type": "code",
   "execution_count": 30,
   "id": "7fe022f7-14e2-4639-aa46-ee08894aa98b",
   "metadata": {},
   "outputs": [
    {
     "name": "stdout",
     "output_type": "stream",
     "text": [
      "p̂ is 0.8 because a 1 shows up in 24 out of 30 trials\n"
     ]
    }
   ],
   "source": [
    "print('p\\u0302 is', sum(bernoulli)/30, \"because a 1 shows up in\",sum(bernoulli),\"out of 30 trials\")"
   ]
  },
  {
   "cell_type": "markdown",
   "id": "1e771382-b637-4f08-a2c2-83883342c62f",
   "metadata": {},
   "source": [
    "This seems consistent with previous answers"
   ]
  },
  {
   "cell_type": "markdown",
   "id": "9af48fe1-9543-4696-ab30-f0818249576d",
   "metadata": {},
   "source": [
    "## 7"
   ]
  },
  {
   "cell_type": "code",
   "execution_count": 31,
   "id": "13834a79-e177-4c49-991d-d96976d9354a",
   "metadata": {},
   "outputs": [
    {
     "name": "stdout",
     "output_type": "stream",
     "text": [
      "p after one guess is 0.4079994211936123\n"
     ]
    }
   ],
   "source": [
    "print('p after one guess is', np.random.normal(0.4666666666666667,math.sqrt((0.4666666666666667 * (1-0.4666666666666667))/30)))"
   ]
  },
  {
   "cell_type": "code",
   "execution_count": 32,
   "id": "a411f892-1576-4f9d-8d54-a1f7499696a2",
   "metadata": {},
   "outputs": [
    {
     "name": "stdout",
     "output_type": "stream",
     "text": [
      "The average p after 1000 guesses is  0.464001184887117\n"
     ]
    }
   ],
   "source": [
    "j = 0\n",
    "for i in range(1000):\n",
    "    j = j + np.random.normal(0.4666666666666667,math.sqrt((0.4666666666666667 * (1-0.4666666666666667))/30))\n",
    "average = j/1000\n",
    "print('The average p after 1000 guesses is ',average)"
   ]
  },
  {
   "cell_type": "markdown",
   "id": "a039d050-1935-41f0-8752-d36c96481f4d",
   "metadata": {},
   "source": [
    "# Regression Comparison"
   ]
  },
  {
   "cell_type": "code",
   "execution_count": 33,
   "id": "b4ff8646-33c6-486e-be53-d86873c57190",
   "metadata": {},
   "outputs": [
    {
     "name": "stdout",
     "output_type": "stream",
     "text": [
      "[1.493663036449464, -0.9221513849380014, -0.35063973342653876, 1.1617576369910685, 1]\n"
     ]
    }
   ],
   "source": [
    "point = []\n",
    "X1 = np.random.normal(3,1)\n",
    "point.append(X1)\n",
    "X2 = np.random.normal(-2,1)\n",
    "point.append(X2)\n",
    "X3 = X1 + (2 * X2)\n",
    "point.append(X3)\n",
    "X4 = math.pow((X2 + 2),2)\n",
    "point.append(X4)\n",
    "X5 = np.random.binomial(1, 0.8)\n",
    "point.append(X5)\n",
    "XD = np.random.normal(0,1)\n",
    "print(point)\n"
   ]
  },
  {
   "cell_type": "markdown",
   "id": "ccb29423-51aa-44d8-a570-31638a008459",
   "metadata": {},
   "source": [
    "**Generating Data Point and Y**"
   ]
  },
  {
   "cell_type": "code",
   "execution_count": 34,
   "id": "d9e2f27f-e877-4954-adec-fe8cc3f2e19c",
   "metadata": {},
   "outputs": [],
   "source": [
    "def generate_point(d):\n",
    "    for i in range(d):\n",
    "        if i == 0:\n",
    "            point = []\n",
    "            X1 = np.random.normal(3,1)\n",
    "            point.append(X1)\n",
    "        if i == 1:\n",
    "            X2 = np.random.normal(-2,1)\n",
    "            point.append(X2)\n",
    "        if i == 2:\n",
    "            X3 = X1 + (2 * X2)\n",
    "            point.append(X3)\n",
    "        if i == 3:\n",
    "            X4 = math.pow((X2 + 2),2)\n",
    "            point.append(X4)\n",
    "        if i == 4:\n",
    "            X5 = np.random.binomial(1, 0.8)\n",
    "            point.append(X5)\n",
    "        if i >= 5:\n",
    "            XD = np.random.normal(0,1)\n",
    "            point.append(XD)\n",
    "    Y = 4 + (3 * math.pow(X1,2)) + X3 - (0.01 * X4) + (X2 * X5) + np.random.normal(0,0.1)\n",
    "    return point,Y"
   ]
  },
  {
   "cell_type": "markdown",
   "id": "b7560c0b-f990-4ab1-8855-0ba46efeae6f",
   "metadata": {},
   "source": [
    "**Training and Testing Data**"
   ]
  },
  {
   "cell_type": "code",
   "execution_count": 35,
   "id": "8ad319b7-0568-41ab-bb7c-ec11ca2e5185",
   "metadata": {},
   "outputs": [],
   "source": [
    "def generate_data(d,r):\n",
    "    totalX = []\n",
    "    totalY = []\n",
    "    trainYerror = []\n",
    "    for i in range(r):\n",
    "        X, Y = generate_point(d)\n",
    "        totalX.append(X)\n",
    "        totalY.append(Y)\n",
    "    return totalX, totalY"
   ]
  },
  {
   "cell_type": "markdown",
   "id": "3892c68b-9166-43d3-9cad-e2267d49cd89",
   "metadata": {},
   "source": [
    "## 1"
   ]
  },
  {
   "cell_type": "code",
   "execution_count": 55,
   "id": "04ec33fb-dbb5-4d01-b032-78e332dadf1a",
   "metadata": {},
   "outputs": [],
   "source": [
    "trainX,trainY = generate_data(5,10000)\n",
    "testX,testY = generate_data(5,1000)"
   ]
  },
  {
   "cell_type": "code",
   "execution_count": 37,
   "id": "e504fbcc-1fbc-487a-89e8-9ad01bbfd7cd",
   "metadata": {},
   "outputs": [
    {
     "name": "stdout",
     "output_type": "stream",
     "text": [
      "If I had to model Y as a constant value, the constant value would be 31.510992726770095 as this is the average value of Y across the training data\n"
     ]
    }
   ],
   "source": [
    "print('If I had to model Y as a constant value, the constant value would be',sum(trainY)/10000, 'as this is the average value of Y across the training data')"
   ]
  },
  {
   "cell_type": "code",
   "execution_count": 38,
   "id": "5cdd3546-e593-48e7-b83e-b7c0991b5072",
   "metadata": {},
   "outputs": [
    {
     "name": "stdout",
     "output_type": "stream",
     "text": [
      "The error for the best c on the training set is 15.391517819621551\n"
     ]
    }
   ],
   "source": [
    "errorTrainC = 0\n",
    "for i in range(10000):\n",
    "    errorTrainC = errorTrainC + abs(((sum(trainY)/10000) - trainY[i]))\n",
    "errorTrainC = errorTrainC/10000\n",
    "print('The error for the best c on the training set is',errorTrainC)"
   ]
  },
  {
   "cell_type": "code",
   "execution_count": 39,
   "id": "dd5dc913-041a-480a-9491-943a88bc0a5d",
   "metadata": {},
   "outputs": [
    {
     "name": "stdout",
     "output_type": "stream",
     "text": [
      "The error for the best c on the testing set is 15.236685560270214\n"
     ]
    }
   ],
   "source": [
    "errorTestC = 0\n",
    "for i in range(1000):\n",
    "    errorTestC = errorTestC + abs(((sum(trainY)/10000) - testY[i]))\n",
    "errorTestC = errorTestC/1000\n",
    "print('The error for the best c on the testing set is',errorTestC)"
   ]
  },
  {
   "cell_type": "code",
   "execution_count": 40,
   "id": "9fda9264-d4ca-41d2-a68d-13d71b0382df",
   "metadata": {},
   "outputs": [
    {
     "name": "stdout",
     "output_type": "stream",
     "text": [
      "The error for the best c on the testing set is -0.1548322593513376 greater than that of the training set\n"
     ]
    }
   ],
   "source": [
    "print('The error for the best c on the testing set is',errorTestC - errorTrainC, \"greater than that of the training set\")"
   ]
  },
  {
   "cell_type": "markdown",
   "id": "38e0dc9b-f4cd-43fe-ab6f-850f47482cdd",
   "metadata": {},
   "source": [
    "The value of d does not matter. Because every X after X5 is a random variable surrounding 0, they will all average out to something close to 0. As a result, while having a larger d will increase the number of variables involved, it does not have an effect on the best c for the model."
   ]
  },
  {
   "cell_type": "markdown",
   "id": "ebc49299-6639-45e6-9f87-13f28cd2d650",
   "metadata": {},
   "source": [
    "## 2"
   ]
  },
  {
   "cell_type": "markdown",
   "id": "cf180285-ca9c-4125-bb3a-9550ad26801c",
   "metadata": {},
   "source": [
    "**Variance of X**"
   ]
  },
  {
   "cell_type": "code",
   "execution_count": 41,
   "id": "428253d4-7ca8-4b8a-8471-e111bb801748",
   "metadata": {},
   "outputs": [],
   "source": [
    "def variance_X(r,X,data):\n",
    "    v1 = 0\n",
    "    v2 = 0\n",
    "    for i in range(r):\n",
    "        v1 = v1 + math.pow(data[i][X],2)\n",
    "    v1 = v1/r\n",
    "    for i in range(r):\n",
    "        v2 = v2 + data[i][X]\n",
    "    v2 = v2/r\n",
    "    v2 = math.pow(v2,2)\n",
    "    var = v1-v2\n",
    "    return (var)"
   ]
  },
  {
   "cell_type": "markdown",
   "id": "515d518f-7bc7-4a40-81f6-e87e191016d3",
   "metadata": {},
   "source": [
    "**Variance of Y**"
   ]
  },
  {
   "cell_type": "code",
   "execution_count": 42,
   "id": "3268ca3b-e71c-471a-8eef-276d0d79b511",
   "metadata": {},
   "outputs": [],
   "source": [
    "def variance_Y(r,data):\n",
    "    v1 = 0\n",
    "    v2 = 0\n",
    "    for i in range(r):\n",
    "        v1 = v1 + math.pow(data[i],2)\n",
    "    v1 = v1/r\n",
    "    for i in range(r):\n",
    "        v2 = v2 + data[i]\n",
    "    v2 = v2/r\n",
    "    v2 = math.pow(v2,2)\n",
    "    var = v1-v2\n",
    "    return (var)"
   ]
  },
  {
   "cell_type": "markdown",
   "id": "643c6ad5-9f20-4c08-8c20-c96153e28288",
   "metadata": {},
   "source": [
    "**Covariance**"
   ]
  },
  {
   "cell_type": "code",
   "execution_count": 43,
   "id": "990bbab1-55dc-4c43-9708-4e45617e307a",
   "metadata": {},
   "outputs": [],
   "source": [
    "def covariance(r,X,dataY,dataX):\n",
    "    v = 0\n",
    "    x = 0\n",
    "    y = 0\n",
    "    for i in range(r):\n",
    "        v = v + (dataX[i][X] * dataY[i])\n",
    "    v = v/r\n",
    "    for i in range(r):\n",
    "        x = x + dataX[i][X]\n",
    "    x = x/r\n",
    "    for i in range(r):\n",
    "        y = y + dataY[i]\n",
    "    y = y/r\n",
    "    covar = v - (x*y)\n",
    "    return(covar)"
   ]
  },
  {
   "cell_type": "markdown",
   "id": "37cbcdb5-6e4c-4033-8d04-2d1dbb2c747e",
   "metadata": {},
   "source": [
    "**Correlation Coeffiecient**"
   ]
  },
  {
   "cell_type": "code",
   "execution_count": 44,
   "id": "e9fc0354-8ab6-4ef6-931d-78b1867f3f30",
   "metadata": {},
   "outputs": [],
   "source": [
    "def corr(r,X,dataY,dataX):\n",
    "    cov = covariance(r,X,dataY,dataX)\n",
    "    vX = variance_X(r,X,dataX)\n",
    "    vY = variance_Y(r,dataY)\n",
    "    if vX == 0:\n",
    "        return np.nan\n",
    "    else:\n",
    "        corr = (cov)/np.sqrt(vX * vY)\n",
    "        return(corr)"
   ]
  },
  {
   "cell_type": "code",
   "execution_count": 45,
   "id": "1b83705f-0a8c-4507-886f-c9de22890758",
   "metadata": {},
   "outputs": [
    {
     "data": {
      "text/plain": [
       "0.966943919878975"
      ]
     },
     "execution_count": 45,
     "metadata": {},
     "output_type": "execute_result"
    }
   ],
   "source": [
    "corr(1000,0,testY,testX)"
   ]
  },
  {
   "cell_type": "markdown",
   "id": "32b410b1-95bc-4ca1-98d7-f5523b818815",
   "metadata": {},
   "source": [
    "**Finding ErrorLeft and ErrorRight**"
   ]
  },
  {
   "cell_type": "code",
   "execution_count": 46,
   "id": "2c7eb4f1-4bdf-49a4-86a7-611c4644b54a",
   "metadata": {},
   "outputs": [],
   "source": [
    "def find_sideerror(array):\n",
    "    mean = np.mean(array)\n",
    "    sum = 0\n",
    "    for i in range(len(array)):\n",
    "        sum = sum + math.pow((array[i]-mean),2)\n",
    "    return sum"
   ]
  },
  {
   "cell_type": "markdown",
   "id": "b63e49c6-43ca-47ae-a518-027d1bc2d446",
   "metadata": {},
   "source": [
    "**Find Total Error**"
   ]
  },
  {
   "cell_type": "code",
   "execution_count": 47,
   "id": "4d17a966-918c-4fbc-a473-1e4d9a5288c1",
   "metadata": {},
   "outputs": [],
   "source": [
    "def find_error(midpoint, array, Y,x):\n",
    "    left = []\n",
    "    right = []\n",
    "    for i in range(len(array)):\n",
    "        if array[i,x] > midpoint:\n",
    "            right.append(Y[i])\n",
    "        elif array[i,x] <= midpoint:\n",
    "            left.append(Y[i])\n",
    "    leftError = find_sideerror(left)\n",
    "    rightError = find_sideerror(right)\n",
    "    Lerror = (len(left)/len(array)) * leftError\n",
    "    Rerror = (len(right)/len(array)) * rightError\n",
    "    error = Lerror + Rerror\n",
    "    return error"
   ]
  },
  {
   "cell_type": "markdown",
   "id": "03d4f5ed-0954-4763-8fc5-cf479dda7830",
   "metadata": {},
   "source": [
    "**Find Alpha**"
   ]
  },
  {
   "cell_type": "code",
   "execution_count": 48,
   "id": "fc58d21a-1b58-4ea9-8b91-16f2cd83b19a",
   "metadata": {},
   "outputs": [],
   "source": [
    "def find_alpha(array,x,size,Y):\n",
    "    array = np.array(array)\n",
    "    newArray = array[np.argsort(array[:,x])]\n",
    "    j = 0\n",
    "    k = 1\n",
    "    errors = []\n",
    "    \n",
    "    while k < size:\n",
    "        midpoint = (newArray[j,x] + newArray[k,x])/2\n",
    "        err = find_error(midpoint,array,Y,x)\n",
    "        errors.append(err)\n",
    "        if err == min(errors):\n",
    "            alpha = j\n",
    "        j = j+1\n",
    "        k = k+1\n",
    "    return newArray[alpha,x]"
   ]
  },
  {
   "cell_type": "code",
   "execution_count": 49,
   "id": "f1e39d9d-49f4-4d95-a51b-d1fa13503db3",
   "metadata": {},
   "outputs": [
    {
     "name": "stdout",
     "output_type": "stream",
     "text": [
      "3.282449572283641\n"
     ]
    }
   ],
   "source": [
    "alpha = find_alpha(testX,0,1000,testY)\n",
    "print(alpha)"
   ]
  },
  {
   "cell_type": "markdown",
   "id": "6811f3cd-b593-4834-b3d1-7f139e322326",
   "metadata": {},
   "source": [
    "**Decision Tree**"
   ]
  },
  {
   "cell_type": "code",
   "execution_count": 50,
   "id": "096bd749-04f6-4848-823a-2269cb5b778a",
   "metadata": {
    "tags": []
   },
   "outputs": [],
   "source": [
    "def decision(array,Y,depths,averageYs,lowers,uppers,d,depth):\n",
    "    array = np.array(array)\n",
    "    Y = np.array(Y)\n",
    "    if len(array) <= 1:\n",
    "        return \n",
    "    else:\n",
    "        corrs = []\n",
    "        for i in range(d):\n",
    "            correl = corr(len(array),i,Y,array)\n",
    "            corrs.append(abs(correl))\n",
    "\n",
    "        #print(len(array))\n",
    "        #print(corrs)\n",
    "        X_index = np.nanargmax(corrs)\n",
    "\n",
    "        alpha = find_alpha(array,X_index,len(array),Y)\n",
    "\n",
    "        \n",
    "        depth = depth + 1\n",
    "        lower = min(array[:,X_index])\n",
    "        upper = max(array[:,X_index])\n",
    "        averageY = np.mean(Y)\n",
    "        \n",
    "        averageYs.append(averageY)\n",
    "        lowers.append(lower)\n",
    "        uppers.append(upper)\n",
    "        depths.append(int(depth))\n",
    "        Xs1.append(int(X_index))\n",
    "        \n",
    "        leftArray = []\n",
    "        leftY = []\n",
    "        rightArray = []\n",
    "        rightY = []\n",
    "        for j in range(len(array)):\n",
    "\n",
    "            if array[j,X_index] > alpha:\n",
    "                rightArray.append(array[j,:])\n",
    "                rightY.append(Y[j])\n",
    "            elif  array[j,X_index] <= alpha:\n",
    "                leftArray.append(array[j,:])\n",
    "                leftY.append(Y[j])\n",
    "        \n",
    "        \n",
    "        decision(rightArray,rightY,depths,averageYs,lowers,uppers,d,depth)\n",
    "        decision(leftArray,leftY,depths,averageYs,lowers,uppers,d,depth)\n",
    "        \n",
    "    return depths,averageYs,lowers,uppers,Xs1"
   ]
  },
  {
   "cell_type": "markdown",
   "id": "8e364b2f-0afe-43ba-8791-74ec39f10cac",
   "metadata": {},
   "source": [
    "**Making the Decision Tree**"
   ]
  },
  {
   "cell_type": "code",
   "execution_count": 51,
   "id": "2876f013-fe6e-4134-86fe-c3ff7133fd6d",
   "metadata": {},
   "outputs": [
    {
     "ename": "NameError",
     "evalue": "name 'trainX2' is not defined",
     "output_type": "error",
     "traceback": [
      "\u001b[1;31m---------------------------------------------------------------------------\u001b[0m",
      "\u001b[1;31mNameError\u001b[0m                                 Traceback (most recent call last)",
      "\u001b[1;32m<ipython-input-51-396c6e6bab76>\u001b[0m in \u001b[0;36m<module>\u001b[1;34m\u001b[0m\n\u001b[1;32m----> 1\u001b[1;33m \u001b[0mtrainX2\u001b[0m \u001b[1;33m=\u001b[0m \u001b[0mnp\u001b[0m\u001b[1;33m.\u001b[0m\u001b[0marray\u001b[0m\u001b[1;33m(\u001b[0m\u001b[0mtrainX2\u001b[0m\u001b[1;33m)\u001b[0m\u001b[1;33m\u001b[0m\u001b[1;33m\u001b[0m\u001b[0m\n\u001b[0m\u001b[0;32m      2\u001b[0m \u001b[0mtrainY2\u001b[0m \u001b[1;33m=\u001b[0m \u001b[0mnp\u001b[0m\u001b[1;33m.\u001b[0m\u001b[0marray\u001b[0m\u001b[1;33m(\u001b[0m\u001b[0mtrainY2\u001b[0m\u001b[1;33m)\u001b[0m\u001b[1;33m\u001b[0m\u001b[1;33m\u001b[0m\u001b[0m\n\u001b[0;32m      3\u001b[0m \u001b[1;33m\u001b[0m\u001b[0m\n\u001b[0;32m      4\u001b[0m \u001b[1;33m\u001b[0m\u001b[0m\n\u001b[0;32m      5\u001b[0m \u001b[1;33m\u001b[0m\u001b[0m\n",
      "\u001b[1;31mNameError\u001b[0m: name 'trainX2' is not defined"
     ]
    }
   ],
   "source": [
    "trainX2 = np.array(trainX2)\n",
    "trainY2 = np.array(trainY2)\n",
    "\n",
    "\n",
    "\n",
    "errorDepth = [0] * max(depths)\n",
    "multi = np.array(multi)\n",
    "multi = multi[multi[:,0].argsort()]\n",
    "error = [0] * len(trainX2)\n",
    "used = [0] * len(trainX2)\n",
    "for i in range(len(depths)):\n",
    "    depth = int(multi[i][0])\n",
    "    averageY = multi[i][1]\n",
    "    lower = multi[i][2]\n",
    "    upper = multi[i][3]\n",
    "    X = int(multi[i][4])\n",
    "    j = 0\n",
    "    for j in range(len(trainX2)):\n",
    "        if (trainX2[j,X] > lower) & (trainX2[j,X] < upper):\n",
    "            error[j] = (abs(np.mean(trainY2[j]) - averageY))\n",
    "            used[j] = 1\n",
    "    if i != (len(depths)):\n",
    "        if multi[i+1,0] > multi[i,0]:\n",
    "            errorDepth[depth] = sum(error)/len(trainX2)\n",
    "            "
   ]
  },
  {
   "cell_type": "markdown",
   "id": "a72cdf19-c4b1-4e85-9269-28a27ff5b822",
   "metadata": {},
   "source": [
    "**Testing on Training Data**"
   ]
  },
  {
   "cell_type": "code",
   "execution_count": 56,
   "id": "75c3473e-f321-4c96-b23b-bbc53524e3c5",
   "metadata": {
    "tags": []
   },
   "outputs": [],
   "source": [
    "trainX2,trainY2 = generate_data(10,10000)\n",
    "trainX2 = np.array(trainX2)\n",
    "trainY2 = np.array(trainY2)\n",
    "averageYs = []\n",
    "lowers = []\n",
    "uppers = []\n",
    "depths = []\n",
    "Xs1 = []\n",
    "depths,averageYs,lowers,uppers,Xs1 = decision(trainX2,trainY2,depths,averageYs,lowers,uppers,10,-1)\n",
    "depths = np.array(depths)\n",
    "averageYs = np.array(averageYs)\n",
    "lowers = np.array(lowers)\n",
    "uppers = np.array(uppers)\n",
    "Xs1 = np.array(Xs1)\n",
    "multi = []\n",
    "for i in range(len(depths)):\n",
    "    multi.append([depths[i],averageYs[i],lowers[i],uppers[i],Xs1[i]])\n"
   ]
  },
  {
   "cell_type": "markdown",
   "id": "d725d15f-1eb8-4dbe-a696-ae09198293ea",
   "metadata": {},
   "source": [
    "**Error by Depth**"
   ]
  },
  {
   "cell_type": "code",
   "execution_count": 33,
   "id": "74286880-1f41-47c4-8e20-7704834f62c7",
   "metadata": {},
   "outputs": [
    {
     "ename": "NameError",
     "evalue": "name 'errorDepth' is not defined",
     "output_type": "error",
     "traceback": [
      "\u001b[1;31m---------------------------------------------------------------------------\u001b[0m",
      "\u001b[1;31mNameError\u001b[0m                                 Traceback (most recent call last)",
      "\u001b[1;32m<ipython-input-33-da5ad31b0700>\u001b[0m in \u001b[0;36m<module>\u001b[1;34m\u001b[0m\n\u001b[1;32m----> 1\u001b[1;33m \u001b[0merrorDepth\u001b[0m\u001b[1;33m\u001b[0m\u001b[1;33m\u001b[0m\u001b[0m\n\u001b[0m",
      "\u001b[1;31mNameError\u001b[0m: name 'errorDepth' is not defined"
     ]
    }
   ],
   "source": [
    "errorDepth"
   ]
  },
  {
   "cell_type": "markdown",
   "id": "e8a675fa-e0b4-4d28-a1ed-b4a6ae2021d3",
   "metadata": {},
   "source": [
    "**Plot of errors as tree gets deeper on training data**"
   ]
  },
  {
   "cell_type": "code",
   "execution_count": 32,
   "id": "35f408a8-ae55-4d11-bc1c-502de142cbbb",
   "metadata": {},
   "outputs": [
    {
     "ename": "NameError",
     "evalue": "name 'errorDepth' is not defined",
     "output_type": "error",
     "traceback": [
      "\u001b[1;31m---------------------------------------------------------------------------\u001b[0m",
      "\u001b[1;31mNameError\u001b[0m                                 Traceback (most recent call last)",
      "\u001b[1;32m<ipython-input-32-f7ffa452d1a5>\u001b[0m in \u001b[0;36m<module>\u001b[1;34m\u001b[0m\n\u001b[1;32m----> 1\u001b[1;33m \u001b[0mplt\u001b[0m\u001b[1;33m.\u001b[0m\u001b[0mplot\u001b[0m\u001b[1;33m(\u001b[0m\u001b[1;33m[\u001b[0m\u001b[1;36m0\u001b[0m\u001b[1;33m,\u001b[0m\u001b[1;36m1\u001b[0m\u001b[1;33m,\u001b[0m\u001b[1;36m2\u001b[0m\u001b[1;33m,\u001b[0m\u001b[1;36m3\u001b[0m\u001b[1;33m,\u001b[0m\u001b[1;36m4\u001b[0m\u001b[1;33m,\u001b[0m\u001b[1;36m5\u001b[0m\u001b[1;33m,\u001b[0m\u001b[1;36m6\u001b[0m\u001b[1;33m,\u001b[0m\u001b[1;36m7\u001b[0m\u001b[1;33m,\u001b[0m\u001b[1;36m8\u001b[0m\u001b[1;33m,\u001b[0m\u001b[1;36m9\u001b[0m\u001b[1;33m,\u001b[0m\u001b[1;36m10\u001b[0m\u001b[1;33m,\u001b[0m\u001b[1;36m11\u001b[0m\u001b[1;33m,\u001b[0m\u001b[1;36m12\u001b[0m\u001b[1;33m,\u001b[0m\u001b[1;36m13\u001b[0m\u001b[1;33m,\u001b[0m\u001b[1;36m14\u001b[0m\u001b[1;33m,\u001b[0m\u001b[1;36m15\u001b[0m\u001b[1;33m,\u001b[0m\u001b[1;36m16\u001b[0m\u001b[1;33m]\u001b[0m\u001b[1;33m,\u001b[0m\u001b[0merrorDepth\u001b[0m\u001b[1;33m)\u001b[0m\u001b[1;33m\u001b[0m\u001b[1;33m\u001b[0m\u001b[0m\n\u001b[0m",
      "\u001b[1;31mNameError\u001b[0m: name 'errorDepth' is not defined"
     ]
    }
   ],
   "source": [
    "plt.plot([0,1,2,3,4,5,6,7,8,9,10,11,12,13,14,15,16],errorDepth)"
   ]
  },
  {
   "cell_type": "markdown",
   "id": "e6db7475-3329-4afa-b646-76f18ea136fb",
   "metadata": {},
   "source": [
    "It appears that the optimal depth to grow the tree to minimize error without overfitting is 4 layers"
   ]
  },
  {
   "cell_type": "markdown",
   "id": "12f3b3b9-9d38-43a0-afd6-eda97846c4dd",
   "metadata": {},
   "source": [
    "**Testing on Testing Data**"
   ]
  },
  {
   "cell_type": "code",
   "execution_count": 128,
   "id": "ba8ca8a6-e9b1-45bd-97b5-4dbe8257a980",
   "metadata": {},
   "outputs": [],
   "source": [
    "testX2,testY2 = generate_data(10,1000)\n",
    "testX2 = np.array(testX2)\n",
    "testY2 = np.array(testY2)\n",
    "\n",
    "\n",
    "errorDepth = [0] * max(depths)\n",
    "multi = np.array(multi)\n",
    "multi = multi[multi[:,0].argsort()]\n",
    "error = [0] * len(trainX2)\n",
    "for i in range(len(depths)):\n",
    "    depth = int(multi[i][0])\n",
    "    averageY = multi[i][1]\n",
    "    lower = multi[i][2]\n",
    "    upper = multi[i][3]\n",
    "    X = int(multi[i][4])\n",
    "    \n",
    "    j = 0\n",
    "    for j in range(len(testX2)):\n",
    "        if (testX2[j,X] > lower) & (testX2[j,X] < upper):\n",
    "            error[j] = abs(np.mean(testY2[j]) - averageY)\n",
    "    if i != (len(depths)-1):\n",
    "        if multi[i+1,0] > multi[i,0]:\n",
    "            errorDepth[depth] = sum(error)/len(testX2)"
   ]
  },
  {
   "cell_type": "code",
   "execution_count": 129,
   "id": "38afd921-bac4-4892-b8c7-6c5a8cb7141d",
   "metadata": {},
   "outputs": [
    {
     "data": {
      "text/plain": [
       "[15.027458455578113,\n",
       " 8.706599706413245,\n",
       " 5.307234439333707,\n",
       " 17.776403151235826,\n",
       " 17.46928286067314,\n",
       " 16.11013407951249,\n",
       " 30.432072731105354,\n",
       " 21.99944316932064,\n",
       " 74.36682386617208,\n",
       " 17.935655165081357,\n",
       " 54.77029876930076,\n",
       " 23.07074392971401,\n",
       " 17.363575399843455,\n",
       " 23.172244970499197,\n",
       " 16.69200049897784,\n",
       " 15.554136932020732,\n",
       " 16.494629291726707]"
      ]
     },
     "execution_count": 129,
     "metadata": {},
     "output_type": "execute_result"
    }
   ],
   "source": [
    "errorDepth"
   ]
  },
  {
   "cell_type": "markdown",
   "id": "a88db2be-5c62-4b25-9317-140636b4d5a1",
   "metadata": {},
   "source": [
    "**Plot of errors as tree gets deeper on testing data**"
   ]
  },
  {
   "cell_type": "code",
   "execution_count": 130,
   "id": "0b1e4623-ce5d-42c5-874f-f48eeb81b166",
   "metadata": {},
   "outputs": [
    {
     "data": {
      "text/plain": [
       "[<matplotlib.lines.Line2D at 0x2032c2b2070>]"
      ]
     },
     "execution_count": 130,
     "metadata": {},
     "output_type": "execute_result"
    },
    {
     "data": {
      "image/png": "[encoded data removed]",
      "text/plain": [
       "<Figure size 432x288 with 1 Axes>"
      ]
     },
     "metadata": {
      "needs_background": "light"
     },
     "output_type": "display_data"
    }
   ],
   "source": [
    "plt.plot([0,1,2,3,4,5,6,7,8,9,10,11,12,13,14,15,16],errorDepth)"
   ]
  },
  {
   "cell_type": "code",
   "execution_count": 248,
   "id": "46e26de6-9919-4d63-bb93-fc1641d32433",
   "metadata": {},
   "outputs": [
    {
     "data": {
      "text/plain": [
       "[15.027458455578113,\n",
       " 8.706599706413245,\n",
       " 5.307234439333707,\n",
       " 17.776403151235826,\n",
       " 17.46928286067314,\n",
       " 16.11013407951249,\n",
       " 30.432072731105354,\n",
       " 21.99944316932064,\n",
       " 74.36682386617208,\n",
       " 17.935655165081357,\n",
       " 54.77029876930076,\n",
       " 23.07074392971401,\n",
       " 17.363575399843455,\n",
       " 23.172244970499197,\n",
       " 16.69200049897784,\n",
       " 15.554136932020732,\n",
       " 16.494629291726707]"
      ]
     },
     "execution_count": 248,
     "metadata": {},
     "output_type": "execute_result"
    }
   ],
   "source": [
    "errorDepth"
   ]
  },
  {
   "cell_type": "markdown",
   "id": "5da97ba1-90e5-4a6f-bd31-c046117545a3",
   "metadata": {},
   "source": [
    "## 3"
   ]
  },
  {
   "cell_type": "markdown",
   "id": "d3c4c5c2-6ad7-4a33-9a78-78b62f563789",
   "metadata": {},
   "source": [
    "**Decision Tree but for Size**"
   ]
  },
  {
   "cell_type": "code",
   "execution_count": 35,
   "id": "20d1f40a-4625-4de5-85fa-cfa94bcffa51",
   "metadata": {},
   "outputs": [],
   "source": [
    "def decision_size(array,Y,depths,averageYs,lowers,uppers,d):\n",
    "    array = np.array(array)\n",
    "    Y = np.array(Y)\n",
    "    if len(array) <= 1:\n",
    "        return \n",
    "    else:\n",
    "        corrs = []\n",
    "        for i in range(d):\n",
    "            correl = corr(len(array),i,Y,array)\n",
    "            corrs.append(abs(correl))\n",
    "\n",
    "        X_index = np.nanargmax(corrs)\n",
    "\n",
    "        alpha = find_alpha(array,X_index,len(array),Y)\n",
    "\n",
    "        \n",
    "        size = len(array) #altered from the depth decision tree\n",
    "        lower = min(array[:,X_index])\n",
    "        upper = max(array[:,X_index])\n",
    "        averageY = np.mean(Y)\n",
    "        \n",
    "        averageYs.append(averageY)\n",
    "        lowers.append(lower)\n",
    "        uppers.append(upper)\n",
    "        depths.append(int(size)) #altered from the depth decision tree\n",
    "        Xs2.append(int(X_index))\n",
    "        \n",
    "        leftArray = []\n",
    "        leftY = []\n",
    "        rightArray = []\n",
    "        rightY = []\n",
    "        for j in range(len(array)):\n",
    "\n",
    "            if array[j,X_index] > alpha:\n",
    "                rightArray.append(array[j,:])\n",
    "                rightY.append(Y[j])\n",
    "            elif  array[j,X_index] <= alpha:\n",
    "                leftArray.append(array[j,:])\n",
    "                leftY.append(Y[j])\n",
    "        \n",
    "        \n",
    "        decision_size(rightArray,rightY,depths,averageYs,lowers,uppers,d)\n",
    "        decision_size(leftArray,leftY,depths,averageYs,lowers,uppers,d)\n",
    "        \n",
    "    return depths,averageYs,lowers,uppers,Xs2"
   ]
  },
  {
   "cell_type": "markdown",
   "id": "406f9330-5bf5-4cc2-bd82-09da72620df5",
   "metadata": {},
   "source": [
    "**Train the Data**"
   ]
  },
  {
   "cell_type": "code",
   "execution_count": 230,
   "id": "2d8ea54e-87dd-4708-8b21-e44d93b1d4d9",
   "metadata": {},
   "outputs": [],
   "source": [
    "trainX2 = np.array(trainX2)\n",
    "trainY2 = np.array(trainY2)\n",
    "\n",
    "averageYs = []\n",
    "lowers = []\n",
    "uppers = []\n",
    "depths = []\n",
    "Xs2 = []\n",
    "sizes,averageYs,lowers,uppers,Xs2 = decision_size(trainX2,trainY2,depths,averageYs,lowers,uppers,10)\n",
    "sizes = np.array(sizes)\n",
    "averageYs = np.array(averageYs)\n",
    "lowers = np.array(lowers)\n",
    "uppers = np.array(uppers)\n",
    "Xs2 = np.array(Xs2)\n",
    "multi = []\n",
    "for i in range(len(sizes)):\n",
    "    multi.append([sizes[i],averageYs[i],lowers[i],uppers[i],Xs2[i]])"
   ]
  },
  {
   "cell_type": "markdown",
   "id": "cdfc22e8-2eb2-4646-b950-103f29a9a291",
   "metadata": {},
   "source": [
    "**Test the Training Data**"
   ]
  },
  {
   "cell_type": "code",
   "execution_count": 241,
   "id": "245d6f0e-793b-4a2e-91dc-1a91d80e1a1f",
   "metadata": {},
   "outputs": [],
   "source": [
    "errorSize = []\n",
    "sizeAmount = []\n",
    "error = [0] * len(trainX2)\n",
    "multi = np.array(multi)\n",
    "multi = -multi[multi[:,0].argsort()]\n",
    "multi = multi[multi[:,0].argsort()]\n",
    "multi = -multi\n",
    "for i in range(len(sizes)):\n",
    "    size = int(multi[i][0])\n",
    "    averageY = multi[i][1]\n",
    "    lower = multi[i][2]\n",
    "    upper = multi[i][3]\n",
    "    X = int(multi[i][4])\n",
    "    j = 0\n",
    "    for j in range(len(trainX2)):\n",
    "        if (trainX2[j,X] > lower) & (trainX2[j,X] < upper):\n",
    "            error[j] = abs(np.mean(trainY2[j]) - averageY)\n",
    "    if i != (len(sizes)-1):\n",
    "        if multi[i+1,0] < multi[i,0]:\n",
    "            errorSize.append(sum(error)/len(trainX2)) \n",
    "            sizeAmount.append(size)"
   ]
  },
  {
   "cell_type": "markdown",
   "id": "10e1f597-ab36-4349-8c4e-0449f8c7a031",
   "metadata": {},
   "source": [
    "**Plot of errors as depending on minimum size of end tree node**"
   ]
  },
  {
   "cell_type": "code",
   "execution_count": 242,
   "id": "1e2f7dc7-1f9b-4af1-8a0e-3de2616fa0da",
   "metadata": {},
   "outputs": [
    {
     "data": {
      "text/plain": [
       "[<matplotlib.lines.Line2D at 0x2032d555eb0>]"
      ]
     },
     "execution_count": 242,
     "metadata": {},
     "output_type": "execute_result"
    },
    {
     "data": {
      "image/png": "[encoded data removed]",
      "text/plain": [
       "<Figure size 432x288 with 1 Axes>"
      ]
     },
     "metadata": {
      "needs_background": "light"
     },
     "output_type": "display_data"
    }
   ],
   "source": [
    "plt.plot(sizeAmount,errorSize)"
   ]
  },
  {
   "cell_type": "markdown",
   "id": "aeb22813-34db-4311-8200-026d9185d7f8",
   "metadata": {},
   "source": [
    "**Test the Testing Data**"
   ]
  },
  {
   "cell_type": "code",
   "execution_count": 243,
   "id": "67069359-9cbe-40c1-acbc-e54910ca9123",
   "metadata": {},
   "outputs": [],
   "source": [
    "testX2 = np.array(testX2)\n",
    "testY2 = np.array(testY2)\n",
    "\n",
    "errorSize2 = []\n",
    "sizeAmount2 = []\n",
    "error = [0] * len(testX2)\n",
    "for i in range(len(sizes)):\n",
    "    size = int(multi[i][0])\n",
    "    averageY = multi[i][1]\n",
    "    lower = multi[i][2]\n",
    "    upper = multi[i][3]\n",
    "    X = int(multi[i][4])\n",
    "    j = 0\n",
    "    for j in range(len(testX2)):\n",
    "        if (testX2[j,X] > lower) & (testX2[j,X] < upper):\n",
    "            error[j] = abs(np.mean(testY2[j]) - averageY)\n",
    "    if i != (len(sizes)-1):\n",
    "        if multi[i+1,0] < multi[i,0]:\n",
    "            errorSize2.append(sum(error)/len(testX2)) \n",
    "            sizeAmount2.append(size)"
   ]
  },
  {
   "cell_type": "markdown",
   "id": "2a888b26-a31d-4021-97d3-505dd4768bd2",
   "metadata": {},
   "source": [
    "**Plot of errors as depending on minimum size of end tree node**"
   ]
  },
  {
   "cell_type": "code",
   "execution_count": 244,
   "id": "95d68d79-5b50-431f-8438-96ea9ae48bcb",
   "metadata": {},
   "outputs": [
    {
     "data": {
      "text/plain": [
       "[<matplotlib.lines.Line2D at 0x2032d63fb80>]"
      ]
     },
     "execution_count": 244,
     "metadata": {},
     "output_type": "execute_result"
    },
    {
     "data": {
      "image/png": "[encoded data removed]",
      "text/plain": [
       "<Figure size 432x288 with 1 Axes>"
      ]
     },
     "metadata": {
      "needs_background": "light"
     },
     "output_type": "display_data"
    }
   ],
   "source": [
    "plt.plot(sizeAmount2,errorSize2)"
   ]
  },
  {
   "cell_type": "markdown",
   "id": "9d669dd8-a1ab-4f09-926c-bc28624f65a0",
   "metadata": {},
   "source": [
    "## 5"
   ]
  },
  {
   "cell_type": "markdown",
   "id": "70aabaf6-dbb9-4d53-a705-909ff86e9489",
   "metadata": {},
   "source": [
    "**Testing d=50 on depth tree**"
   ]
  },
  {
   "cell_type": "code",
   "execution_count": 266,
   "id": "dd9deed5-56a5-4ec9-a3a6-5ac28dff45ce",
   "metadata": {
    "tags": []
   },
   "outputs": [],
   "source": [
    "trainX3,trainY3 = generate_data(50,10000)\n",
    "trainX3 = np.array(trainX3)\n",
    "trainY3 = np.array(trainY3)\n",
    "averageYs = []\n",
    "lowers = []\n",
    "uppers = []\n",
    "depths = []\n",
    "Xs1 = []\n",
    "depths,averageYs,lowers,uppers,Xs1 = decision(trainX3,trainY3,depths,averageYs,lowers,uppers,10,-1)\n",
    "depths = np.array(depths)\n",
    "averageYs = np.array(averageYs)\n",
    "lowers = np.array(lowers)\n",
    "uppers = np.array(uppers)\n",
    "Xs1 = np.array(Xs1)\n",
    "multi = []\n",
    "for i in range(len(depths)):\n",
    "    multi.append([depths[i],averageYs[i],lowers[i],uppers[i],Xs1[i]])\n"
   ]
  },
  {
   "cell_type": "code",
   "execution_count": 267,
   "id": "b7271134-f883-4574-b554-b28f433976f6",
   "metadata": {},
   "outputs": [],
   "source": [
    "trainX3 = np.array(trainX3)\n",
    "trainY3 = np.array(trainY3)\n",
    "\n",
    "\n",
    "\n",
    "errorDepth = [0] * max(depths)\n",
    "multi = np.array(multi)\n",
    "multi = multi[multi[:,0].argsort()]\n",
    "error = [0] * len(trainX3)\n",
    "used = [0] * len(trainX3)\n",
    "for i in range(len(depths)):\n",
    "    depth = int(multi[i][0])\n",
    "    averageY = multi[i][1]\n",
    "    lower = multi[i][2]\n",
    "    upper = multi[i][3]\n",
    "    X = int(multi[i][4])\n",
    "    j = 0\n",
    "    for j in range(len(trainX3)):\n",
    "        if (trainX3[j,X] > lower) & (trainX3[j,X] < upper):\n",
    "            error[j] = (abs(np.mean(trainY3[j]) - averageY))\n",
    "            used[j] = 1\n",
    "    if i != (len(depths)-1):\n",
    "        if multi[i+1,0] > multi[i,0]:\n",
    "            errorDepth[depth] = sum(error)/len(trainX3)\n",
    "            "
   ]
  },
  {
   "cell_type": "code",
   "execution_count": 268,
   "id": "b6a8c1ea-141b-4de3-becd-7b2396a00b98",
   "metadata": {},
   "outputs": [
    {
     "data": {
      "text/plain": [
       "[15.667047079456658,\n",
       " 9.32503863149727,\n",
       " 5.548339315141327,\n",
       " 13.79589597227179,\n",
       " 6.788602791284981,\n",
       " 23.57220324382126,\n",
       " 27.27848383481501,\n",
       " 40.84388632092503,\n",
       " 63.57021601894419,\n",
       " 23.510965254405548,\n",
       " 41.14918723106142,\n",
       " 21.834357982273993,\n",
       " 16.317524629753414,\n",
       " 23.278506978100438,\n",
       " 18.751204127328883,\n",
       " 16.47175595636096,\n",
       " 17.05268737860871,\n",
       " 17.596742482432944]"
      ]
     },
     "execution_count": 268,
     "metadata": {},
     "output_type": "execute_result"
    }
   ],
   "source": [
    "errorDepth"
   ]
  },
  {
   "cell_type": "markdown",
   "id": "8fea41a3-f57d-4fe0-a3f1-abfdaff6ff52",
   "metadata": {},
   "source": [
    "**Testing d=50 on size tree**"
   ]
  },
  {
   "cell_type": "code",
   "execution_count": 269,
   "id": "53cd3174-2a3c-4d48-b8e9-6958b731875b",
   "metadata": {},
   "outputs": [],
   "source": [
    "trainX3 = np.array(trainX3)\n",
    "trainY3 = np.array(trainY3)\n",
    "\n",
    "averageYs = []\n",
    "lowers = []\n",
    "uppers = []\n",
    "depths = []\n",
    "Xs2 = []\n",
    "sizes,averageYs,lowers,uppers,Xs2 = decision_size(trainX3,trainY3,depths,averageYs,lowers,uppers,10)\n",
    "sizes = np.array(sizes)\n",
    "averageYs = np.array(averageYs)\n",
    "lowers = np.array(lowers)\n",
    "uppers = np.array(uppers)\n",
    "Xs2 = np.array(Xs2)\n",
    "multi = []\n",
    "for i in range(len(sizes)):\n",
    "    multi.append([sizes[i],averageYs[i],lowers[i],uppers[i],Xs2[i]])"
   ]
  },
  {
   "cell_type": "markdown",
   "id": "33b3c852-527f-4493-8fbd-2d2bcea63576",
   "metadata": {},
   "source": [
    "**Test the Training Data**"
   ]
  },
  {
   "cell_type": "code",
   "execution_count": 270,
   "id": "472cf20f-fe5d-4da8-b64e-fa3206dba965",
   "metadata": {},
   "outputs": [],
   "source": [
    "errorSize = []\n",
    "sizeAmount = []\n",
    "error = [0] * len(trainX3)\n",
    "multi = np.array(multi)\n",
    "multi = -multi[multi[:,0].argsort()]\n",
    "multi = multi[multi[:,0].argsort()]\n",
    "multi = -multi\n",
    "for i in range(len(sizes)):\n",
    "    size = int(multi[i][0])\n",
    "    averageY = multi[i][1]\n",
    "    lower = multi[i][2]\n",
    "    upper = multi[i][3]\n",
    "    X = int(multi[i][4])\n",
    "    j = 0\n",
    "    for j in range(len(trainX3)):\n",
    "        if (trainX3[j,X] > lower) & (trainX3[j,X] < upper):\n",
    "            error[j] = abs(np.mean(trainY3[j]) - averageY)\n",
    "    if i != (len(sizes)-1):\n",
    "        if multi[i+1,0] < multi[i,0]:\n",
    "            errorSize.append(sum(error)/len(trainX3)) \n",
    "            sizeAmount.append(size)"
   ]
  },
  {
   "cell_type": "code",
   "execution_count": 271,
   "id": "71bf7c32-21ef-4623-94d5-5f1d84f6f922",
   "metadata": {},
   "outputs": [
    {
     "data": {
      "text/plain": [
       "[<matplotlib.lines.Line2D at 0x2032d45d040>]"
      ]
     },
     "execution_count": 271,
     "metadata": {},
     "output_type": "execute_result"
    },
    {
     "data": {
      "image/png": "[encoded data removed]",
      "text/plain": [
       "<Figure size 432x288 with 1 Axes>"
      ]
     },
     "metadata": {
      "needs_background": "light"
     },
     "output_type": "display_data"
    }
   ],
   "source": [
    "plt.plot(sizeAmount,errorSize)"
   ]
  },
  {
   "cell_type": "markdown",
   "id": "ccf9f601-8850-481b-83a5-feb252cbf6d6",
   "metadata": {},
   "source": [
    "## 6"
   ]
  },
  {
   "cell_type": "markdown",
   "id": "2a2c4614-6ea5-445d-b370-04dbb5697f16",
   "metadata": {},
   "source": [
    "**Test Different d values in depth tree**"
   ]
  },
  {
   "cell_type": "code",
   "execution_count": 284,
   "id": "bfd729e3-8b1e-4728-bfcc-7f9e31433988",
   "metadata": {},
   "outputs": [],
   "source": [
    "unneccesaryAmount = []\n",
    "for k in range(5,20):\n",
    "    unnec = 0\n",
    "    testX6,testY6 = generate_data(k,1000)\n",
    "    testX6 = np.array(testX6)\n",
    "    testY6 = np.array(testY6)\n",
    "    averageYs = []\n",
    "    lowers = []\n",
    "    uppers = []\n",
    "    depths = []\n",
    "    Xs1 = []\n",
    "    depths,averageYs,lowers,uppers,Xs6 = decision(testX6,testY6,depths,averageYs,lowers,uppers,k,-1)\n",
    "    for i in Xs6:\n",
    "        if Xs6[i] >= 5:\n",
    "            unnec = unnec + 1\n",
    "    unneccesaryAmount.append(unnec)"
   ]
  },
  {
   "cell_type": "code",
   "execution_count": 285,
   "id": "0203d83c-a383-4512-94fa-56dc64adbf42",
   "metadata": {},
   "outputs": [
    {
     "data": {
      "text/plain": [
       "[0, 0, 0, 92, 82, 134, 122, 238, 198, 0, 85, 256, 203, 258, 345]"
      ]
     },
     "execution_count": 285,
     "metadata": {},
     "output_type": "execute_result"
    }
   ],
   "source": [
    "unneccesaryAmount"
   ]
  },
  {
   "cell_type": "code",
   "execution_count": 286,
   "id": "c4829c67-11ba-40c9-98b1-d51bab2d1083",
   "metadata": {},
   "outputs": [
    {
     "data": {
      "text/plain": [
       "[<matplotlib.lines.Line2D at 0x2032bde9940>]"
      ]
     },
     "execution_count": 286,
     "metadata": {},
     "output_type": "execute_result"
    },
    {
     "data": {
      "image/png": "[encoded data removed]",
      "text/plain": [
       "<Figure size 432x288 with 1 Axes>"
      ]
     },
     "metadata": {
      "needs_background": "light"
     },
     "output_type": "display_data"
    }
   ],
   "source": [
    "plt.plot(range(5,20),unneccesaryAmount)"
   ]
  },
  {
   "cell_type": "markdown",
   "id": "e71f1dda-2cbc-440e-947f-3aa5fd877e35",
   "metadata": {},
   "source": [
    "**Test Different d values in size tree**"
   ]
  },
  {
   "cell_type": "code",
   "execution_count": 289,
   "id": "0b3e470c-a102-4778-b5ba-f7820a81bb61",
   "metadata": {},
   "outputs": [],
   "source": [
    "unneccesaryAmount = []\n",
    "for k in range(5,20):\n",
    "    unnec = 0\n",
    "    testX6,testY6 = generate_data(k,1000)\n",
    "    testX6 = np.array(testX6)\n",
    "    testY6 = np.array(testY6)\n",
    "    averageYs = []\n",
    "    lowers = []\n",
    "    uppers = []\n",
    "    depths = []\n",
    "    Xs2 = []\n",
    "    depths,averageYs,lowers,uppers,Xs6 = decision_size(testX6,testY6,depths,averageYs,lowers,uppers,k)\n",
    "    for i in Xs6:\n",
    "        if Xs6[i] >= 5:\n",
    "            unnec = unnec + 1\n",
    "    unneccesaryAmount.append(unnec)"
   ]
  },
  {
   "cell_type": "code",
   "execution_count": 290,
   "id": "ca03249b-eb57-4196-b8ef-7facdbcc15e9",
   "metadata": {},
   "outputs": [
    {
     "data": {
      "text/plain": [
       "[0, 0, 0, 88, 0, 197, 121, 248, 204, 210, 180, 309, 239, 291, 291]"
      ]
     },
     "execution_count": 290,
     "metadata": {},
     "output_type": "execute_result"
    }
   ],
   "source": [
    "unneccesaryAmount"
   ]
  },
  {
   "cell_type": "code",
   "execution_count": 291,
   "id": "af34b620-f4f8-484c-a29c-8de650fd4329",
   "metadata": {},
   "outputs": [
    {
     "data": {
      "text/plain": [
       "[<matplotlib.lines.Line2D at 0x2032d956c70>]"
      ]
     },
     "execution_count": 291,
     "metadata": {},
     "output_type": "execute_result"
    },
    {
     "data": {
      "image/png": "[encoded data removed]",
      "text/plain": [
       "<Figure size 432x288 with 1 Axes>"
      ]
     },
     "metadata": {
      "needs_background": "light"
     },
     "output_type": "display_data"
    }
   ],
   "source": [
    "plt.plot(range(5,20),unneccesaryAmount)"
   ]
  },
  {
   "cell_type": "markdown",
   "id": "40bcd836-83ea-4ccb-ba63-70849be36507",
   "metadata": {},
   "source": [
    "## 7"
   ]
  },
  {
   "cell_type": "markdown",
   "id": "632c5f35-447a-4708-9fa8-b6fb86af4194",
   "metadata": {},
   "source": [
    "**INCOMPLETE**"
   ]
  },
  {
   "cell_type": "code",
   "execution_count": 394,
   "id": "c006685a-0f4d-4fb0-85c4-cd703524db1f",
   "metadata": {},
   "outputs": [],
   "source": [
    "wMatrix = [0 for x in range(6)]\n",
    "wMatrix[0] = [4,-3,1,-0.01,1]\n",
    "for t in range(6):\n",
    "    if t == 5:\n",
    "        continue\n",
    "    wMatrix[t+1] = wMatrix[t] - 0.01 * (np.transpose(trainX).dot(trainX) * (wMatrix[t])) - np.transpose(trainX).dot(trainY)"
   ]
  },
  {
   "cell_type": "code",
   "execution_count": 395,
   "id": "7a151193-1ee7-4f11-a68d-464138880501",
   "metadata": {},
   "outputs": [
    {
     "data": {
      "text/plain": [
       "[[4, -3, 1, -0.01, 1],\n",
       " array([[-1136570.05085082,   598354.27069795,    67938.64964713,\n",
       "          -313114.73649358,  -248953.1557656 ],\n",
       "        [-1130170.71793603,   601649.61843206,    67341.58438642,\n",
       "          -313119.72418134,  -248553.37685785],\n",
       "        [-1131773.79578528,   601347.77486702,    67142.04396746,\n",
       "          -313118.7049488 ,  -248634.34598212],\n",
       "        [-1133770.22952903,   599557.59806378,    67836.38673368,\n",
       "          -313114.60827827,  -248792.76700204],\n",
       "        [-1133530.34153282,   599674.6516723 ,    67818.32299373,\n",
       "          -313116.9401012 ,  -248792.8217496 ]]),\n",
       " array([[ 1.13464341e+09,  3.59930973e+08,  1.36393280e+07,\n",
       "          9.34165309e+07,  5.93442029e+07],\n",
       "        [-6.79836122e+08, -2.98971635e+08, -2.66872638e+07,\n",
       "         -6.27563177e+07, -4.01178913e+07],\n",
       "        [-2.27218446e+08, -2.38317023e+08, -4.00055374e+07,\n",
       "         -3.08420372e+07, -1.99991739e+07],\n",
       "        [ 3.38257027e+08,  1.20165588e+08,  6.68175318e+06,\n",
       "          9.74311011e+07,  1.94022457e+07],\n",
       "        [ 2.70205137e+08,  9.67909034e+07,  5.45493942e+06,\n",
       "          2.44185028e+07,  1.94158708e+07]]),\n",
       " array([[-1.13385182e+12,  2.16150625e+11,  2.72469292e+09,\n",
       "         -2.79641794e+10, -1.42057089e+10],\n",
       "        [-4.08264399e+11,  1.48863768e+11,  1.06029934e+10,\n",
       "         -1.25153513e+10, -6.43535472e+09],\n",
       "        [-4.53908394e+10,  9.46846301e+10,  2.38771031e+10,\n",
       "         -3.00739656e+09, -1.58889844e+09],\n",
       "        [-1.01257026e+11,  2.39643534e+10,  6.51535383e+08,\n",
       "         -3.04151408e+10, -1.53273999e+09],\n",
       "        [-6.46812214e+10,  1.55263345e+10,  4.33385039e+08,\n",
       "         -1.92901473e+09, -1.53487915e+09]]),\n",
       " array([[ 1.13305965e+15,  1.29805343e+14,  5.44291322e+11,\n",
       "          8.37096535e+12,  3.40047734e+12],\n",
       "        [-2.45175790e+14, -7.41218538e+13, -4.21259934e+12,\n",
       "         -2.49584622e+12, -1.03226263e+12],\n",
       "        [-9.06738511e+12, -3.76184718e+13, -1.42508879e+13,\n",
       "         -2.93219996e+11, -1.26215616e+11],\n",
       "        [ 3.03108860e+13,  4.77903814e+12,  6.35244466e+10,\n",
       "          9.49461955e+12,  1.21063606e+11],\n",
       "        [ 1.54830026e+13,  2.49050061e+12,  3.44263409e+10,\n",
       "          1.52363402e+11,  1.21316599e+11]]),\n",
       " array([[-1.13226803e+18,  7.79522468e+16,  1.08728952e+14,\n",
       "         -2.50581512e+15, -8.13985917e+14],\n",
       "        [-1.47235879e+17,  3.69065579e+16,  1.67367768e+15,\n",
       "         -4.97728546e+14, -1.65579975e+14],\n",
       "        [-1.81132280e+15,  1.49459257e+16,  8.50554640e+15,\n",
       "         -2.85888055e+13, -1.00260346e+13],\n",
       "        [-9.07344295e+15,  9.53048982e+14,  6.19360232e+12,\n",
       "         -2.96391208e+15, -9.56223976e+12],\n",
       "        [-3.70622851e+15,  3.99488482e+14,  2.73468288e+12,\n",
       "         -1.20344621e+13, -9.58886423e+12]])]"
      ]
     },
     "execution_count": 395,
     "metadata": {},
     "output_type": "execute_result"
    }
   ],
   "source": [
    "wMatrix"
   ]
  },
  {
   "cell_type": "code",
   "execution_count": 393,
   "id": "0eca9e11-52c1-46ed-b5e4-b6014e3834e5",
   "metadata": {},
   "outputs": [
    {
     "ename": "ValueError",
     "evalue": "operands could not be broadcast together with shapes (5,) (10000,) ",
     "output_type": "error",
     "traceback": [
      "\u001b[1;31m---------------------------------------------------------------------------\u001b[0m",
      "\u001b[1;31mValueError\u001b[0m                                Traceback (most recent call last)",
      "\u001b[1;32m<ipython-input-393-d0c5dadfaf9e>\u001b[0m in \u001b[0;36m<module>\u001b[1;34m\u001b[0m\n\u001b[1;32m----> 1\u001b[1;33m \u001b[0mnp\u001b[0m\u001b[1;33m.\u001b[0m\u001b[0mtranspose\u001b[0m\u001b[1;33m(\u001b[0m\u001b[0mtrainX\u001b[0m\u001b[1;33m[\u001b[0m\u001b[0mt\u001b[0m\u001b[1;33m]\u001b[0m\u001b[1;33m)\u001b[0m \u001b[1;33m*\u001b[0m\u001b[1;33m(\u001b[0m\u001b[0mtrainY\u001b[0m\u001b[1;33m)\u001b[0m\u001b[1;33m\u001b[0m\u001b[1;33m\u001b[0m\u001b[0m\n\u001b[0m",
      "\u001b[1;31mValueError\u001b[0m: operands could not be broadcast together with shapes (5,) (10000,) "
     ]
    }
   ],
   "source": [
    "np.transpose(trainX[t]) *(trainY)"
   ]
  },
  {
   "cell_type": "code",
   "execution_count": null,
   "id": "9bcab335-2dfc-4939-a27b-c69e184a944b",
   "metadata": {},
   "outputs": [],
   "source": []
  },
  {
   "cell_type": "code",
   "execution_count": null,
   "id": "4f086b32-cca1-438e-9f8e-a90df42b7db6",
   "metadata": {},
   "outputs": [],
   "source": []
  },
  {
   "cell_type": "code",
   "execution_count": null,
   "id": "4a201ab5-a45f-42e8-98f2-d5b78ef396d6",
   "metadata": {},
   "outputs": [],
   "source": []
  },
  {
   "cell_type": "code",
   "execution_count": null,
   "id": "6a94ceaf-68c8-494f-a72a-f1946e165420",
   "metadata": {},
   "outputs": [],
   "source": []
  },
  {
   "cell_type": "code",
   "execution_count": null,
   "id": "b6cc3dc6-382b-49d4-b388-eddf3bcba632",
   "metadata": {},
   "outputs": [],
   "source": []
  },
  {
   "cell_type": "code",
   "execution_count": null,
   "id": "ecb33a69-350d-4c00-a588-24b5e327363e",
   "metadata": {},
   "outputs": [],
   "source": []
  },
  {
   "cell_type": "code",
   "execution_count": null,
   "id": "c0c378ca-8523-492a-b614-b11b65198182",
   "metadata": {},
   "outputs": [],
   "source": []
  },
  {
   "cell_type": "code",
   "execution_count": 31,
   "id": "0ce75edd-a276-4684-bb4c-804023b27966",
   "metadata": {},
   "outputs": [
    {
     "data": {
      "text/plain": [
       "10000"
      ]
     },
     "execution_count": 31,
     "metadata": {},
     "output_type": "execute_result"
    }
   ],
   "source": [
    "len(trainX2)"
   ]
  },
  {
   "cell_type": "code",
   "execution_count": null,
   "id": "6c4b3254-5009-4482-a696-9b0585361177",
   "metadata": {},
   "outputs": [],
   "source": []
  }
 ],
 "metadata": {
  "kernelspec": {
   "display_name": "Python 3",
   "language": "python",
   "name": "python3"
  },
  "language_info": {
   "codemirror_mode": {
    "name": "ipython",
    "version": 3
   },
   "file_extension": ".py",
   "mimetype": "text/x-python",
   "name": "python",
   "nbconvert_exporter": "python",
   "pygments_lexer": "ipython3",
   "version": "3.8.8"
  }
 },
 "nbformat": 4,
 "nbformat_minor": 5
}
