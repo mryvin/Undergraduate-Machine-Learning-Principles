{
 "cells": [
  {
   "cell_type": "code",
   "execution_count": 2,
   "id": "f8234636-3ae4-45af-ba8a-0efeb522cdbc",
   "metadata": {},
   "outputs": [],
   "source": [
    "import numpy as np\n",
    "import math\n",
    "import matplotlib.pyplot as plt\n",
    "from random import randrange"
   ]
  },
  {
   "cell_type": "markdown",
   "id": "380a8c8a-501f-4ccd-9013-28bfaf7af105",
   "metadata": {},
   "source": [
    "## 1 Decision Trees for Classification"
   ]
  },
  {
   "cell_type": "markdown",
   "id": "b001e8ab-9ba8-4b38-817a-c1fdd1f7d0ad",
   "metadata": {},
   "source": [
    "**Generating Data**"
   ]
  },
  {
   "cell_type": "code",
   "execution_count": 3,
   "id": "9b1b5701-236a-4c60-b972-7d47c25e26d1",
   "metadata": {},
   "outputs": [],
   "source": [
    "def generate_data(size,sd):\n",
    "    Xdata = []\n",
    "    for i in range(size): #Amount of data points\n",
    "        point = []\n",
    "        for j in range(15): #X1 to X15\n",
    "            temp = np.random.binomial(1,0.5,1)[0] #50% chance of 0 or 1\n",
    "            if temp == 0:\n",
    "                temp = -1\n",
    "            point.append(temp)\n",
    "        Xdata.append(point)\n",
    "    Ydata = []\n",
    "    for i in range(size): #Finding value of Y for each data point\n",
    "        one = Xdata[i][0] * 0.9\n",
    "        two = Xdata[i][1] * 0.81\n",
    "        three = Xdata[i][2] * 0.729\n",
    "        four = Xdata[i][3] * 0.6561\n",
    "        five = Xdata[i][4] * 0.59049\n",
    "        en = np.random.normal(0, (sd*sd))\n",
    "        temp = np.sign(one + two + three + four + five + en)\n",
    "        Ydata.append(temp)\n",
    "    return Xdata,Ydata"
   ]
  },
  {
   "cell_type": "code",
   "execution_count": 6,
   "id": "f1852b4c-37b5-4a73-b65c-92238d8751ca",
   "metadata": {},
   "outputs": [],
   "source": [
    "trainX,trainY = generate_data(5000,0.05)\n",
    "testX,testY = generate_data(1000,0.05)"
   ]
  },
  {
   "cell_type": "markdown",
   "id": "265803ca-0f79-44cf-b1be-6dbd6770a466",
   "metadata": {},
   "source": [
    "**Probabilities**"
   ]
  },
  {
   "cell_type": "code",
   "execution_count": 4,
   "id": "04d18731-c750-488c-abe9-7245c3a36af3",
   "metadata": {},
   "outputs": [],
   "source": [
    "def posX_prob(length,i,Y,X):\n",
    "   #Finding probability that X is 1\n",
    "    yprob = 0\n",
    "    ysum = 0\n",
    "    for j in range(length):\n",
    "        #print(X[j][i])\n",
    "        if X[j][i] == 1:\n",
    "            ysum += 1\n",
    "            if Y[j] == 1:\n",
    "                yprob += 1\n",
    "    \n",
    "    p=0\n",
    "    if ysum != 0:\n",
    "        p = yprob/ysum\n",
    "    \n",
    "    return p"
   ]
  },
  {
   "cell_type": "code",
   "execution_count": 5,
   "id": "81f50b4c-5f8d-41a4-8280-23cd25794c8e",
   "metadata": {},
   "outputs": [],
   "source": [
    "def negX_prob(length,i,Y,X):\n",
    "    #Finding probability that X is -1\n",
    "    yprob = 0\n",
    "    ysum = 0\n",
    "    for j in range(length):\n",
    "        if X[j][i] == -1:\n",
    "            ysum += 1\n",
    "            if Y[j] == 1:\n",
    "                yprob += 1\n",
    "    \n",
    "    p=0\n",
    "    if ysum != 0:\n",
    "        p = yprob/ysum\n",
    "    \n",
    "    return p"
   ]
  },
  {
   "cell_type": "markdown",
   "id": "1c452205-bf72-4fdb-8f9d-ac695d3b4b7b",
   "metadata": {},
   "source": [
    "**Correlation**"
   ]
  },
  {
   "cell_type": "code",
   "execution_count": 6,
   "id": "d7a1c270-c3bb-46c1-8630-6b6705b0f0ed",
   "metadata": {},
   "outputs": [],
   "source": [
    "def correlation(length, i, Y, X):\n",
    "    \n",
    "    if (posX_prob(length,i,Y,X)) != 0 and (posX_prob(length,i,Y,X)) != 1: #Calculation for X = 1\n",
    "        posX1 = (-1 * posX_prob(length,i,Y,X)) * math.log(posX_prob(length,i,Y,X),2)\n",
    "        posX2 = (-1 * (1 - posX_prob(length,i,Y,X))) * math.log(1 - (posX_prob(length,i,Y,X)),2)\n",
    "        posX = posX1 + posX2\n",
    "    else:\n",
    "        posX = 0 #If there exists a correlation of 0% or 100%, set variable to 0\n",
    "    \n",
    "    if (negX_prob(length,i,Y,X)) != 0 and (negX_prob(length,i,Y,X)) != 1: #Calculation for X = -1\n",
    "        negX1 = (-1 * negX_prob(length,i,Y,X)) * math.log(negX_prob(length,i,Y,X),2)\n",
    "        negX2 = (-1 * (1 - negX_prob(length,i,Y,X))) * math.log(1 - (negX_prob(length,i,Y,X)),2)\n",
    "        negX = negX1 + negX2\n",
    "    else:\n",
    "        negX = 0 #If there exists a correlation of 0% or 100%, set variable to 0\n",
    "    \n",
    "    posSum = 0\n",
    "    negSum = 0\n",
    "    \n",
    "    for j in range(length):\n",
    "        if X[j][i] == 1:\n",
    "            posSum += 1\n",
    "        else:\n",
    "            negSum += 1\n",
    "            \n",
    "    subtract1 = (posSum/length) * posX\n",
    "    subtract2 = (negSum/length) * negX\n",
    "    subtract = subtract1 + subtract2 #Value needed to be subtracted in correlation value. Aka Y with the knowledge of X\n",
    "    \n",
    "    posY = 0\n",
    "    negY = 0\n",
    "    \n",
    "    for j in range(length):\n",
    "        if Y[j] == 1:\n",
    "            posY += 1\n",
    "        else:\n",
    "            negY += 1\n",
    "    \n",
    "    if (posY/length) != 0 and (posY/length) != 1: #Calculations regardless of knowing X\n",
    "        H1 = (-posY/length) * math.log((posY/length),2)\n",
    "        H2 = (-negY/length) * math.log((negY/length),2)\n",
    "        H = H1 + H2\n",
    "    else:\n",
    "        H = 0\n",
    "    \n",
    "    IG = H - subtract #Information gained\n",
    "    return IG"
   ]
  },
  {
   "cell_type": "markdown",
   "id": "a61d3378-0554-48c2-8329-7ba0b0b7f335",
   "metadata": {},
   "source": [
    "**Decision Tree (NEW)**"
   ]
  },
  {
   "cell_type": "code",
   "execution_count": 71,
   "id": "5e3c914b-afea-4dee-b363-11ca6e1419ab",
   "metadata": {},
   "outputs": [],
   "source": [
    "def decision_size2(array,Y,sampleSize,Index,finalY,testArray,testY,testIndex,testFinalY):\n",
    "    array = np.array(array)\n",
    "    testArray = np.array(testArray)\n",
    "    Y = np.array(Y)\n",
    "    if len(array) <= sampleSize: #If size too small, return everything\n",
    "        return finalY,testFinalY\n",
    "    else:\n",
    "        corrs = []\n",
    "        for i in range(15): #Calculate Correlations\n",
    "            correl = correlation(len(array),i,Y,array)\n",
    "            corrs.append(abs(correl))\n",
    "        if max(corrs) <= 0: #If no correlation, return everthing\n",
    "            return finalY,testFinalY\n",
    "        X_index = np.nanargmax(corrs)\n",
    "\n",
    "        \n",
    "        #Determine average Y depending on whether above or below X\n",
    "        above = 0\n",
    "        below = 0\n",
    "        for i in range(len(array)):\n",
    "            if array[i][X_index] == 1:\n",
    "                above = above + Y[i]\n",
    "            if array[i][X_index] == -1:\n",
    "                below = below + Y[i]\n",
    "        \n",
    "        above = int(above)\n",
    "        below = int(below)\n",
    "        \n",
    "        #Set what Y is for when X is 1\n",
    "        if above > 0:\n",
    "            upper = 1\n",
    "        elif above < 0:\n",
    "            upper = -1\n",
    "        else:\n",
    "            temp = np.random.binomial(1,0.5,1)[0]\n",
    "            if temp == 0:\n",
    "                upper = -1\n",
    "            else:\n",
    "                upper = 1\n",
    "        \n",
    "        #Set what Y is for when X is -1\n",
    "        if below > 0:\n",
    "            lower = 1\n",
    "        elif below < 0:\n",
    "            lower = -1\n",
    "        else:\n",
    "            temp = np.random.binomial(1,0.5,1)[0]\n",
    "            if temp == 0:\n",
    "                lower = 1\n",
    "            else:\n",
    "                lower = -1\n",
    "       \n",
    "        #Applying the model and making parameters to be passed down in regression\n",
    "        leftArray = []\n",
    "        leftIndexes = []\n",
    "        leftY = []\n",
    "        rightArray = []\n",
    "        rightIndexes = []\n",
    "        rightY = []\n",
    "        for j in range(len(array)):\n",
    "            if array[j,X_index] == 1:\n",
    "                rightArray.append(array[j,:])\n",
    "                rightIndexes.append(Index[j])\n",
    "                rightY.append(Y[j])\n",
    "                finalY[Index[j]] = upper\n",
    "            elif  array[j,X_index] == -1:\n",
    "                leftArray.append(array[j,:])\n",
    "                leftIndexes.append(Index[j])\n",
    "                leftY.append(Y[j])\n",
    "                finalY[Index[j]] = lower\n",
    "\n",
    "        #Applying Model to test Data\n",
    "        testLeftArray = []\n",
    "        testLeftIndex = []\n",
    "        testLeftY = []\n",
    "        testRightArray = []\n",
    "        testRightIndex = []\n",
    "        testRightY = []\n",
    "        for j in range(len(testArray)):\n",
    "            if testArray[j,X_index] == 1:\n",
    "                testRightArray.append(testArray[j,:])\n",
    "                testRightIndex.append(testIndex[j])\n",
    "                testRightY.append(testY[j])\n",
    "                testFinalY[testIndex[j]] = upper\n",
    "            elif  testArray[j,X_index] == -1:\n",
    "                testLeftArray.append(testArray[j,:])\n",
    "                testLeftIndex.append(testIndex[j])\n",
    "                testLeftY.append(testY[j])\n",
    "                testFinalY[testIndex[j]] = lower\n",
    "\n",
    "                \n",
    "                \n",
    "        decision_size2(rightArray,rightY,sampleSize,rightIndexes,finalY,testRightArray,testRightY,testRightIndex,testFinalY)\n",
    "        decision_size2(leftArray,leftY,sampleSize,leftIndexes,finalY,testLeftArray,testLeftY,testLeftIndex,testFinalY)\n",
    "        \n",
    "    return finalY,testFinalY"
   ]
  },
  {
   "cell_type": "code",
   "execution_count": 639,
   "id": "5a664966-5166-4f17-8f72-8c5c47bae02c",
   "metadata": {},
   "outputs": [],
   "source": [
    "size = 1000\n",
    "testSize = 500\n",
    "trainX,trainY = generate_data(size,0.05)\n",
    "testX,testY = generate_data(testSize,0.05)\n",
    "sizes = []\n",
    "errors = []\n",
    "testErrors = []\n",
    "for i in range(size): #Loop through every size value from 1 to 249, skipping even values. This only goes to 249 because the test data cannot be separated by anything larger than 250\n",
    "    if i%2 == 0 or i >= 250:\n",
    "        continue\n",
    "    else:\n",
    "        index = [j for j in range(size)]\n",
    "        testIndex = [j for j in range(testSize)]\n",
    "        results2,testresults = decision_size2(trainX,trainY,i, index,np.array([1]*size),testX,testY,testIndex,np.array([1]*(testSize)))\n",
    "        results2 = np.array(results2)\n",
    "        testresults = np.array(testresults)\n",
    "        sizes.append(i)\n",
    "        error = size - sum(abs(trainY+results2)/2)\n",
    "        errors.append(error)\n",
    "        testY = np.array(testY)\n",
    "        testError = size - sum(abs(testY+testresults)/2)\n",
    "        testErrors.append(testError)"
   ]
  },
  {
   "cell_type": "code",
   "execution_count": 640,
   "id": "e0262cd3-b843-4760-8483-0bce7b1e182d",
   "metadata": {},
   "outputs": [
    {
     "data": {
      "text/plain": [
       "[<matplotlib.lines.Line2D at 0x17ca2461fa0>]"
      ]
     },
     "execution_count": 640,
     "metadata": {},
     "output_type": "execute_result"
    },
    {
     "data": {
      "image/png": "[encoded data removed]",
      "text/plain": [
       "<Figure size 432x288 with 1 Axes>"
      ]
     },
     "metadata": {
      "needs_background": "light"
     },
     "output_type": "display_data"
    }
   ],
   "source": [
    "plt.plot(sizes,testErrors)"
   ]
  },
  {
   "cell_type": "markdown",
   "id": "bbc01e70-235e-4aa7-862d-3621e778fc96",
   "metadata": {},
   "source": [
    "**Problem 1 Part 3**"
   ]
  },
  {
   "cell_type": "code",
   "execution_count": 65,
   "id": "3411a70d-2f62-4204-a18b-75fdc1fab73b",
   "metadata": {},
   "outputs": [],
   "source": [
    "#Same code as before, but changed i in the call to 49 and added a sd metric to loop on\n",
    "size = 1000\n",
    "testSize = 500\n",
    "sizes = []\n",
    "errors = []\n",
    "testErrors = []\n",
    "for i in range(500):\n",
    "    sd = i/100\n",
    "    trainX,trainY = generate_data(size,sd)\n",
    "    testX,testY = generate_data(testSize,sd)\n",
    "    index = [j for j in range(size)]\n",
    "    testIndex = [j for j in range(testSize)]\n",
    "    results2,testresults = decision_size2(trainX,trainY,49, index,np.array([1]*size),testX,testY,testIndex,np.array([1]*(testSize)))\n",
    "    results2 = np.array(results2)\n",
    "    testresults = np.array(testresults)\n",
    "    sizes.append(i)\n",
    "    error = size - sum(abs(trainY+results2)/2)\n",
    "    errors.append(error)\n",
    "    testY = np.array(testY)\n",
    "    testError = size - sum(abs(testY+testresults)/2)\n",
    "    testErrors.append(testError)"
   ]
  },
  {
   "cell_type": "code",
   "execution_count": 69,
   "id": "1ec4d730-6375-44ee-8723-87d87cfbdd47",
   "metadata": {},
   "outputs": [
    {
     "data": {
      "text/plain": [
       "[<matplotlib.lines.Line2D at 0x17c973eaa90>]"
      ]
     },
     "execution_count": 69,
     "metadata": {},
     "output_type": "execute_result"
    },
    {
     "data": {
      "image/png": "[encoded data removed]",
      "text/plain": [
       "<Figure size 432x288 with 1 Axes>"
      ]
     },
     "metadata": {
      "needs_background": "light"
     },
     "output_type": "display_data"
    }
   ],
   "source": [
    "plt.plot(sizes[0:99],errors[0:99])"
   ]
  },
  {
   "cell_type": "markdown",
   "id": "3920efb6-ce0a-4daf-83ca-a708f291c759",
   "metadata": {},
   "source": [
    "**Problem 1 Part 4**"
   ]
  },
  {
   "cell_type": "code",
   "execution_count": 638,
   "id": "e01ce887-6d1a-46ee-8fee-aec01df71e72",
   "metadata": {},
   "outputs": [],
   "source": [
    "def decision_X(array,Y,sampleSize,Index,finalY,testArray,testY,testIndex,testFinalY, Xs):\n",
    "    array = np.array(array)\n",
    "    testArray = np.array(testArray)\n",
    "    Y = np.array(Y)\n",
    "    if len(array) <= sampleSize: #If size too small, return everything\n",
    "        return finalY,testFinalY\n",
    "    else:\n",
    "        corrs = []\n",
    "        for i in range(15): #Calculate Correlations\n",
    "            correl = correlation(len(array),i,Y,array)\n",
    "            corrs.append(abs(correl))\n",
    "        if max(corrs) <= 0: #If no correlation, return everthing\n",
    "            return finalY,testFinalY\n",
    "        X_index = np.nanargmax(corrs)\n",
    "        Xs.append(X_index) ##############################################ADDED NEW ARRAY TO TRACK Xs (Used to determine unneccessary Xs)\n",
    "        \n",
    "        #Determine average Y depending on whether above or below X\n",
    "        above = 0\n",
    "        below = 0\n",
    "        for i in range(len(array)):\n",
    "            if array[i][X_index] == 1:\n",
    "                above = above + Y[i]\n",
    "            if array[i][X_index] == -1:\n",
    "                below = below + Y[i]\n",
    "        \n",
    "        above = int(above)\n",
    "        below = int(below)\n",
    "        \n",
    "        #Set what Y is for when X is 1\n",
    "        if above > 0:\n",
    "            upper = 1\n",
    "        elif above < 0:\n",
    "            upper = -1\n",
    "        else:\n",
    "            temp = np.random.binomial(1,0.5,1)[0]\n",
    "            if temp == 0:\n",
    "                upper = -1\n",
    "            else:\n",
    "                upper = 1\n",
    "        \n",
    "        #Set what Y is for when X is -1\n",
    "        if below > 0:\n",
    "            lower = 1\n",
    "        elif below < 0:\n",
    "            lower = -1\n",
    "        else:\n",
    "            temp = np.random.binomial(1,0.5,1)[0]\n",
    "            if temp == 0:\n",
    "                lower = 1\n",
    "            else:\n",
    "                lower = -1\n",
    "       \n",
    "        #Applying the model and making parameters to be passed down in regression\n",
    "        leftArray = []\n",
    "        leftIndexes = []\n",
    "        leftY = []\n",
    "        rightArray = []\n",
    "        rightIndexes = []\n",
    "        rightY = []\n",
    "        for j in range(len(array)):\n",
    "            if array[j,X_index] == 1:\n",
    "                rightArray.append(array[j,:])\n",
    "                rightIndexes.append(Index[j])\n",
    "                rightY.append(Y[j])\n",
    "                finalY[Index[j]] = upper\n",
    "            elif  array[j,X_index] == -1:\n",
    "                leftArray.append(array[j,:])\n",
    "                leftIndexes.append(Index[j])\n",
    "                leftY.append(Y[j])\n",
    "                finalY[Index[j]] = lower\n",
    "\n",
    "        #Applying Model to test Data\n",
    "        testLeftArray = []\n",
    "        testLeftIndex = []\n",
    "        testLeftY = []\n",
    "        testRightArray = []\n",
    "        testRightIndex = []\n",
    "        testRightY = []\n",
    "        for j in range(len(testArray)):\n",
    "            if testArray[j,X_index] == 1:\n",
    "                testRightArray.append(testArray[j,:])\n",
    "                testRightIndex.append(testIndex[j])\n",
    "                testRightY.append(testY[j])\n",
    "                testFinalY[testIndex[j]] = upper\n",
    "            elif  testArray[j,X_index] == -1:\n",
    "                testLeftArray.append(testArray[j,:])\n",
    "                testLeftIndex.append(testIndex[j])\n",
    "                testLeftY.append(testY[j])\n",
    "                testFinalY[testIndex[j]] = lower\n",
    "\n",
    "                \n",
    "                \n",
    "        decision_X(rightArray,rightY,sampleSize,rightIndexes,finalY,testRightArray,testRightY,testRightIndex,testFinalY,Xs)\n",
    "        decision_X(leftArray,leftY,sampleSize,leftIndexes,finalY,testLeftArray,testLeftY,testLeftIndex,testFinalY,Xs)\n",
    "        \n",
    "    return Xs"
   ]
  },
  {
   "cell_type": "code",
   "execution_count": 83,
   "id": "f6644776-bafb-4c7d-821f-51f53529b94a",
   "metadata": {},
   "outputs": [],
   "source": [
    "#Same code as before, but changed only look at Xs\n",
    "size = 1000\n",
    "testSize = 500\n",
    "sizes = []\n",
    "unneccessary = []\n",
    "for i in range(500):\n",
    "    Xs = []\n",
    "    sd = i/100\n",
    "    trainX,trainY = generate_data(size,sd)\n",
    "    testX,testY = generate_data(testSize,sd)\n",
    "    index = [j for j in range(size)]\n",
    "    testIndex = [j for j in range(testSize)]\n",
    "    Xs = decision_X(trainX,trainY,49, index,np.array([1]*size),testX,testY,testIndex,np.array([1]*(testSize)),Xs)\n",
    "    unn = 0\n",
    "    for j in Xs: #Every time a variable over X5 is used, it is counted as unneccessary\n",
    "        if Xs[j] > 4:\n",
    "            unn +=1\n",
    "    \n",
    "    \n",
    "    sizes.append(i)\n",
    "    unneccessary.append(unn)\n"
   ]
  },
  {
   "cell_type": "code",
   "execution_count": 90,
   "id": "e3bffa0b-fd93-41a2-a004-d2fabdc3e14c",
   "metadata": {},
   "outputs": [
    {
     "data": {
      "text/plain": [
       "[<matplotlib.lines.Line2D at 0x17c9885c5e0>]"
      ]
     },
     "execution_count": 90,
     "metadata": {},
     "output_type": "execute_result"
    },
    {
     "data": {
      "image/png": "[encoded data removed]",
      "text/plain": [
       "<Figure size 432x288 with 1 Axes>"
      ]
     },
     "metadata": {
      "needs_background": "light"
     },
     "output_type": "display_data"
    }
   ],
   "source": [
    "plt.plot(sizes[0:99],unneccessary[0:99])"
   ]
  },
  {
   "cell_type": "code",
   "execution_count": 89,
   "id": "93b9e14a-036e-4205-92bf-5f879423daeb",
   "metadata": {},
   "outputs": [
    {
     "data": {
      "text/plain": [
       "19.496666666666666"
      ]
     },
     "execution_count": 89,
     "metadata": {},
     "output_type": "execute_result"
    }
   ],
   "source": [
    "np.mean(unneccessary[200:])"
   ]
  },
  {
   "cell_type": "markdown",
   "id": "c82187de-6dec-4acf-a70c-47b6ba56549d",
   "metadata": {},
   "source": [
    "## Part 2: Logistic Regression"
   ]
  },
  {
   "cell_type": "code",
   "execution_count": 291,
   "id": "ed828555-a51c-4e8f-aaa5-bd71fa77b23a",
   "metadata": {},
   "outputs": [],
   "source": [
    "def logistic_size(array,Y,sampleSize,Index,finalY,testArray,testY,testIndex,testFinalY):\n",
    "    array = np.array(array)\n",
    "    testArray = np.array(testArray)\n",
    "    Y = np.array(Y)\n",
    "    if len(array) <= sampleSize: #If size too small, return everything\n",
    "        if sampleSize == 1:\n",
    "            return finalY,testFinalY\n",
    "        else:\n",
    "            #setting the logistic values for the training data\n",
    "            totalY = 0\n",
    "            posY = 0\n",
    "            for k in Y:\n",
    "                k = int(k)\n",
    "                totalY += 1\n",
    "                if Y[k] == 1:\n",
    "                    posY += 1\n",
    "            for t in Index:\n",
    "                new = posY/totalY\n",
    "                finalY[t] = float(new)\n",
    "            for q in testIndex: #setting the logistic values for the testing data\n",
    "                testFinalY[q] = float(new)\n",
    "            return finalY,testFinalY\n",
    "    else:\n",
    "        corrs = []\n",
    "        for i in range(15): #Calculate Correlations\n",
    "            correl = correlation(len(array),i,Y,array)\n",
    "            corrs.append(abs(correl))\n",
    "        if max(corrs) <= 0: #If no correlation, return everthing\n",
    "            if sampleSize == 1:\n",
    "                return finalY,testFinalY\n",
    "            else:\n",
    "                #setting the logistic values for the training data\n",
    "                totalY = 0\n",
    "                posY = 0\n",
    "                for k in Y:\n",
    "                    k = int(k)\n",
    "                    totalY += 1\n",
    "                    if Y[k] == 1:\n",
    "                        posY += 1\n",
    "                for t in Index:\n",
    "                    finalY[t] = posY/totalY\n",
    "                for q in testIndex: #setting the logistic values for the testing data\n",
    "                    testFinalY[q] = posY/totalY\n",
    "                return finalY,testFinalY\n",
    "        \n",
    "        X_index = np.nanargmax(corrs)\n",
    "\n",
    "        \n",
    "        #Determine average Y depending on whether above or below X\n",
    "        above = 0\n",
    "        below = 0\n",
    "        for i in range(len(array)):\n",
    "            if array[i][X_index] == 1:\n",
    "                above = above + Y[i]\n",
    "            if array[i][X_index] == -1:\n",
    "                below = below + Y[i]\n",
    "        \n",
    "        #Set the percentages\n",
    "        upper = above/len(Y)\n",
    "        lower = below/len(Y)\n",
    "       \n",
    "        #Applying the model and making parameters to be passed down in regression\n",
    "        leftArray = []\n",
    "        leftIndexes = []\n",
    "        leftY = []\n",
    "        rightArray = []\n",
    "        rightIndexes = []\n",
    "        rightY = []\n",
    "        for j in range(len(array)):\n",
    "            if array[j,X_index] == 1:\n",
    "                rightArray.append(array[j,:])\n",
    "                rightIndexes.append(Index[j])\n",
    "                rightY.append(Y[j])\n",
    "                finalY[Index[j]] = float(upper)\n",
    "            elif  array[j,X_index] == -1:\n",
    "                leftArray.append(array[j,:])\n",
    "                leftIndexes.append(Index[j])\n",
    "                leftY.append(Y[j])\n",
    "                finalY[Index[j]] = float(lower)\n",
    "\n",
    "        #Applying Model to test Data\n",
    "        testLeftArray = []\n",
    "        testLeftIndex = []\n",
    "        testLeftY = []\n",
    "        testRightArray = []\n",
    "        testRightIndex = []\n",
    "        testRightY = []\n",
    "        for j in range(len(testArray)):\n",
    "            if testArray[j,X_index] == 1:\n",
    "                testRightArray.append(testArray[j,:])\n",
    "                testRightIndex.append(testIndex[j])\n",
    "                testRightY.append(testY[j])\n",
    "                testFinalY[testIndex[j]] = upper\n",
    "            elif  testArray[j,X_index] == -1:\n",
    "                testLeftArray.append(testArray[j,:])\n",
    "                testLeftIndex.append(testIndex[j])\n",
    "                testLeftY.append(testY[j])\n",
    "                testFinalY[testIndex[j]] = lower\n",
    "\n",
    "                \n",
    "                \n",
    "        logistic_size(rightArray,rightY,sampleSize,rightIndexes,finalY,testRightArray,testRightY,testRightIndex,testFinalY)\n",
    "        logistic_size(leftArray,leftY,sampleSize,leftIndexes,finalY,testLeftArray,testLeftY,testLeftIndex,testFinalY)\n",
    "    return finalY,testFinalY"
   ]
  },
  {
   "cell_type": "code",
   "execution_count": 331,
   "id": "c6e3683d-6a12-494f-8ae8-26b9331a4ecd",
   "metadata": {},
   "outputs": [],
   "source": [
    "size = 1000\n",
    "testSize = 500\n",
    "trainX,trainY = generate_data(size,0.05)\n",
    "testX,testY = generate_data(testSize,0.05)\n",
    "trainY = np.array(trainY)\n",
    "testY = np.array(testY)\n",
    "trainY = trainY.astype(float)\n",
    "testY = testY.astype(float)\n",
    "sizes = []\n",
    "errors = []\n",
    "testErrors = []\n",
    "\n",
    "#Changing -1 to 0 so that you can analyze errors more easily with logistic regression (since all percent values will be between 0 and 1)\n",
    "temptestY = []\n",
    "for k in range(500):\n",
    "    if testY[k] == 1:\n",
    "        temptestY.append(1)\n",
    "    else:\n",
    "        temptestY.append(0)\n",
    "temptrainY = []\n",
    "for k in range(1000):\n",
    "    if trainY[k] == 1:\n",
    "        temptrainY.append(1)\n",
    "    else:\n",
    "        temptrainY.append(0)\n",
    "\n",
    "\n",
    "for i in range(size):\n",
    "    if i%2 == 0 or i >= 250:\n",
    "        continue\n",
    "    else:\n",
    "        index = [j for j in range(size)]\n",
    "        testIndex = [j for j in range(testSize)]\n",
    "        results2,testresults = logistic_size(trainX,trainY,i, index,np.array([1.0]*size),testX,testY,testIndex,np.array([1.0]*(testSize)))\n",
    "        results2 = np.array(results2)\n",
    "        testresults = np.array(testresults)\n",
    "        sizes.append(i)\n",
    "        error = sum(abs(temptrainY-results2))\n",
    "        errors.append(error)\n",
    "        \n",
    "        testError = sum(abs(temptestY-testresults))\n",
    "        testErrors.append(testError)"
   ]
  },
  {
   "cell_type": "code",
   "execution_count": 346,
   "id": "812ea09a-f0a5-453b-a975-d7a746a0ac92",
   "metadata": {},
   "outputs": [
    {
     "data": {
      "text/plain": [
       "[<matplotlib.lines.Line2D at 0x17c9a38bb80>]"
      ]
     },
     "execution_count": 346,
     "metadata": {},
     "output_type": "execute_result"
    },
    {
     "data": {
      "image/png": "[encoded data removed]",
      "text/plain": [
       "<Figure size 432x288 with 1 Axes>"
      ]
     },
     "metadata": {
      "needs_background": "light"
     },
     "output_type": "display_data"
    }
   ],
   "source": [
    "plt.plot(sizes,testErrors)"
   ]
  },
  {
   "cell_type": "markdown",
   "id": "50cfc267-74ec-441f-9b96-fc123e258ca4",
   "metadata": {},
   "source": [
    "**Part 2 Question 2/3**"
   ]
  },
  {
   "cell_type": "markdown",
   "id": "2d5fa1db-1cd7-4d43-953f-21d3823f26e1",
   "metadata": {},
   "source": [
    "COULDNT FIGURE OUT HOW TO DO"
   ]
  },
  {
   "cell_type": "code",
   "execution_count": 505,
   "id": "3aad8a76-cadb-4b23-bc92-71e1582c06ec",
   "metadata": {},
   "outputs": [
    {
     "data": {
      "text/plain": [
       "<bound method Random.seed of <random.Random object at 0x0000017C8F506C10>>"
      ]
     },
     "execution_count": 505,
     "metadata": {},
     "output_type": "execute_result"
    }
   ],
   "source": [
    "rand = random.seed\n",
    "rand"
   ]
  },
  {
   "cell_type": "code",
   "execution_count": 500,
   "id": "f32e0b47-9a74-4c84-a91d-93c63f94879d",
   "metadata": {},
   "outputs": [],
   "source": [
    "def SGD(Y,X,m):\n",
    "    rand = randrange(0-m)\n",
    "    if m < 0:\n",
    "        return 1\n",
    "    w = SGD()"
   ]
  },
  {
   "cell_type": "code",
   "execution_count": 514,
   "id": "850fedc1-da27-484d-ad17-0aaeddc1780a",
   "metadata": {},
   "outputs": [
    {
     "data": {
      "text/plain": [
       "65"
      ]
     },
     "execution_count": 514,
     "metadata": {},
     "output_type": "execute_result"
    }
   ],
   "source": [
    "randrange(100)"
   ]
  },
  {
   "cell_type": "markdown",
   "id": "c58e7564-54ce-4e39-9980-431c8ce79861",
   "metadata": {},
   "source": [
    "## Part 3: Support Vector Machines"
   ]
  },
  {
   "cell_type": "code",
   "execution_count": 429,
   "id": "308c6ab8-1123-46c1-8fbb-f85cde949d78",
   "metadata": {},
   "outputs": [],
   "source": [
    "from matplotlib import pyplot as plt, patches"
   ]
  },
  {
   "cell_type": "code",
   "execution_count": null,
   "id": "08d46d9f-adab-41be-9cd9-cbe6893b2ca5",
   "metadata": {},
   "outputs": [],
   "source": []
  },
  {
   "cell_type": "code",
   "execution_count": 541,
   "id": "eecff34b-1b40-4364-842e-7baf985e79ad",
   "metadata": {},
   "outputs": [],
   "source": [
    "def kernel(x1,x2):\n",
    "    kern = x1 * -x2 #kernel defined as x1 multiplied by negative x2, which yields the correct result for y\n",
    "    return kern"
   ]
  },
  {
   "cell_type": "code",
   "execution_count": 621,
   "id": "ebed71f8-b2ac-41d4-8293-6c89faa5b3bc",
   "metadata": {},
   "outputs": [],
   "source": [
    "def dualSVM(alpha,y,x1,x2,m):\n",
    "    \n",
    "    classifiers1 = []\n",
    "    #finding the classifier for each x1/x2/y value\n",
    "    for i in range(m):\n",
    "        sum1 = 0\n",
    "        sum1 = sum1 + (alpha[i] * y[i] * kernel(x1[i],x2[i]))\n",
    "        classifiers1.append(np.sign(sum1))\n",
    "        #print('alpha:',alpha[i])\n",
    "        #print('y:',y[i])\n",
    "        #print('kernel:',kernel(x1[i],x2[i]))\n",
    "        #print(alpha[i] * y[i] * kernel(x1[i],x2[i]))\n",
    "        #print(sum1)\n",
    "    return classifiers1 #returns the classifier"
   ]
  },
  {
   "cell_type": "code",
   "execution_count": 622,
   "id": "022d3a06-0394-474b-9fac-700ff7f5c22c",
   "metadata": {},
   "outputs": [],
   "source": [
    "x1s = []\n",
    "x2s = []\n",
    "ys = []\n",
    "m = 100\n",
    "#Create Random Data\n",
    "for i in range(m):\n",
    "    s = np.random.normal(0, 1)\n",
    "    if s > 0:\n",
    "        x1 = 1\n",
    "    else:\n",
    "        x1 = -1\n",
    "\n",
    "    t = np.random.normal(0, 1)\n",
    "    if t > 0:\n",
    "        x2 = 1\n",
    "    else:\n",
    "        x2 = -1\n",
    "\n",
    "    y = np.sign(x1 * -x2)\n",
    "\n",
    "    x1s.append(x1)\n",
    "    x2s.append(x2)\n",
    "    ys.append(y)\n",
    "\n",
    "#For each alpha above 0, create a classifiers vector\n",
    "alpha = 0\n",
    "classifiersByAlpha = []\n",
    "for j in range(m):\n",
    "    alpha += 1\n",
    "    alphas = []\n",
    "    for i in range(m):\n",
    "        alphas.append((alpha*ys[i]))\n",
    "    classifiersByAlpha.append(dualSVM(alphas,ys,x1s,x2s,m))"
   ]
  },
  {
   "cell_type": "code",
   "execution_count": 636,
   "id": "b150d881-4e24-40ab-a205-b6f7c5535f0e",
   "metadata": {},
   "outputs": [
    {
     "data": {
      "text/plain": [
       "Text(0.5, 1.0, 'SVM')"
      ]
     },
     "execution_count": 636,
     "metadata": {},
     "output_type": "execute_result"
    },
    {
     "data": {
      "image/png": "[encoded data removed]",
      "text/plain": [
       "<Figure size 432x288 with 1 Axes>"
      ]
     },
     "metadata": {
      "needs_background": "light"
     },
     "output_type": "display_data"
    }
   ],
   "source": [
    "#No matter which alpha is used (as long as it is positive), the classification regions are the same\n",
    "plt.scatter(x1s,x2s,c=classifiersByAlpha[5])\n",
    "plt.xticks([-1,1])\n",
    "plt.yticks([-1,1])\n",
    "plt.xlabel('x1')\n",
    "plt.ylabel('x2')\n",
    "plt.title('SVM')"
   ]
  },
  {
   "cell_type": "code",
   "execution_count": 637,
   "id": "14b812aa-6588-4de7-b595-8a134aabbd55",
   "metadata": {},
   "outputs": [
    {
     "data": {
      "text/plain": [
       "Text(0.5, 1.0, 'SVM')"
      ]
     },
     "execution_count": 637,
     "metadata": {},
     "output_type": "execute_result"
    },
    {
     "data": {
      "image/png": "[encoded data removed]",
      "text/plain": [
       "<Figure size 432x288 with 1 Axes>"
      ]
     },
     "metadata": {
      "needs_background": "light"
     },
     "output_type": "display_data"
    }
   ],
   "source": [
    "#More visually appealing plot \n",
    "figure, ax = plt.subplots(1)\n",
    "rectangle1 = patches.Rectangle((0, -1), 1, 1,facecolor=\"green\", linewidth=7)\n",
    "rectangle2 = patches.Rectangle((-1, 0), 1, 1,facecolor=\"green\", linewidth=7)\n",
    "rectangle3 = patches.Rectangle((-1, -1), 1, 1,facecolor=\"red\", linewidth=7)\n",
    "rectangle4 = patches.Rectangle((0, 0), 1, 1,facecolor=\"red\", linewidth=7)\n",
    "ax.plot(c='red')\n",
    "ax.add_patch(rectangle1)\n",
    "ax.add_patch(rectangle2)\n",
    "ax.add_patch(rectangle3)\n",
    "ax.add_patch(rectangle4)\n",
    "ax.set_xlabel('x1')\n",
    "ax.set_ylabel('x2')\n",
    "ax.set_xticks([-1,1], minor=False)\n",
    "ax.set_yticks([-1,1], minor=False)\n",
    "ax.set_title('SVM')"
   ]
  },
  {
   "cell_type": "code",
   "execution_count": null,
   "id": "0257aa17-db1f-4681-a30a-16042b83a9f8",
   "metadata": {},
   "outputs": [],
   "source": []
  },
  {
   "cell_type": "code",
   "execution_count": null,
   "id": "0ccd4987-56dd-43f9-9557-9743f8baf0f6",
   "metadata": {},
   "outputs": [],
   "source": []
  },
  {
   "cell_type": "code",
   "execution_count": null,
   "id": "2d3f4804-ddc2-48f6-b398-ddde75103353",
   "metadata": {},
   "outputs": [],
   "source": []
  }
 ],
 "metadata": {
  "kernelspec": {
   "display_name": "Python 3",
   "language": "python",
   "name": "python3"
  },
  "language_info": {
   "codemirror_mode": {
    "name": "ipython",
    "version": 3
   },
   "file_extension": ".py",
   "mimetype": "text/x-python",
   "name": "python",
   "nbconvert_exporter": "python",
   "pygments_lexer": "ipython3",
   "version": "3.8.8"
  }
 },
 "nbformat": 4,
 "nbformat_minor": 5
}
